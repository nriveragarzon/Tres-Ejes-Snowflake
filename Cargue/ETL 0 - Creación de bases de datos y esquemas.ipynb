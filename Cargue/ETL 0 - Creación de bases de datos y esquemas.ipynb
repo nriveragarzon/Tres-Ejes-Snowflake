{
 "cells": [
  {
   "cell_type": "markdown",
   "metadata": {},
   "source": [
    "# Paso 0: Creación de bases de datos y esquemas "
   ]
  },
  {
   "cell_type": "markdown",
   "metadata": {},
   "source": [
    "## Librerias"
   ]
  },
  {
   "cell_type": "code",
   "execution_count": 1,
   "metadata": {},
   "outputs": [],
   "source": [
    "# Generales\n",
    "import pandas as pd\n",
    "import numpy as np\n",
    "import time\n",
    "import re\n",
    "import warnings\n",
    "warnings.filterwarnings('ignore')\n",
    "\n",
    "# Funciones Snowflake\n",
    "import funciones as snow_func"
   ]
  },
  {
   "cell_type": "code",
   "execution_count": 2,
   "metadata": {},
   "outputs": [],
   "source": [
    "# Aumentar número de columnas que se pueden ver\n",
    "pd.options.display.max_columns = None\n",
    "# En los dataframes, mostrar los float con dos decimales\n",
    "pd.options.display.float_format = '{:,.10f}'.format\n",
    "# Cada columna será tan grande como sea necesario para mostrar todo su contenido\n",
    "pd.set_option('display.max_colwidth', 0)"
   ]
  },
  {
   "cell_type": "markdown",
   "metadata": {},
   "source": [
    "### Snowflake"
   ]
  },
  {
   "cell_type": "code",
   "execution_count": 3,
   "metadata": {},
   "outputs": [],
   "source": [
    "# Librerias necesarias para subir a Snowflake\n",
    "import os\n",
    "import json\n",
    "import snowflake.connector # [pip install snowflake-connector-python]\n",
    "from snowflake.connector.pandas_tools import write_pandas # [pip install \"snowflake-connector-python[pandas]\"]\n",
    "from snowflake.snowpark import Session"
   ]
  },
  {
   "cell_type": "code",
   "execution_count": 4,
   "metadata": {},
   "outputs": [
    {
     "name": "stdout",
     "output_type": "stream",
     "text": [
      "Sesión actual: {<snowflake.snowpark.session.Session object at 0x000001F7A321D690>}\n"
     ]
    }
   ],
   "source": [
    "# Paso 1: Definir la ruta al archivo JSON en el escritorio\n",
    "desktop_path = os.path.join(os.path.expanduser(\"~\"), \"Desktop\\Conn\")\n",
    "json_file_path = os.path.join(desktop_path, \"snowflake_credentials.json\")\n",
    "\n",
    "# Paso 2: Leer las credenciales desde el archivo JSON\n",
    "with open(json_file_path, 'r') as file:\n",
    "    credentials = json.load(file)\n",
    "\n",
    "# Paso 3: Definir los parámetros de conexión usando las credenciales\n",
    "connection_parameters = {\n",
    "        \"account\": credentials[\"ACCOUNT_SNOWFLAKE\"],\n",
    "        \"user\": credentials[\"USER_SNOWFLAKE\"],\n",
    "        \"password\": credentials[\"PASSWORD_SNOWFLAKE\"],\n",
    "        \"role\": credentials[\"ROLE_SNOWFLAKE\"],\n",
    "        \"warehouse\": credentials[\"WAREHOUSE\"]\n",
    "    }\n",
    "\n",
    "# Paso 5: Crear un objeto de conexión utilizando snowflake.connector\n",
    "session = Session.builder.configs(connection_parameters).create()\n",
    "print(\"Sesión actual:\", {session})"
   ]
  },
  {
   "cell_type": "code",
   "execution_count": 5,
   "metadata": {},
   "outputs": [],
   "source": [
    "# Crear objeto de conexión\n",
    "conn = session.connection"
   ]
  },
  {
   "cell_type": "markdown",
   "metadata": {},
   "source": [
    "## 1. Crear base de datos"
   ]
  },
  {
   "cell_type": "code",
   "execution_count": 6,
   "metadata": {},
   "outputs": [
    {
     "data": {
      "text/html": [
       "<div>\n",
       "<style scoped>\n",
       "    .dataframe tbody tr th:only-of-type {\n",
       "        vertical-align: middle;\n",
       "    }\n",
       "\n",
       "    .dataframe tbody tr th {\n",
       "        vertical-align: top;\n",
       "    }\n",
       "\n",
       "    .dataframe thead th {\n",
       "        text-align: right;\n",
       "    }\n",
       "</style>\n",
       "<table border=\"1\" class=\"dataframe\">\n",
       "  <thead>\n",
       "    <tr style=\"text-align: right;\">\n",
       "      <th></th>\n",
       "      <th>status</th>\n",
       "    </tr>\n",
       "  </thead>\n",
       "  <tbody>\n",
       "    <tr>\n",
       "      <th>0</th>\n",
       "      <td>Database DOCUMENTOS_COLOMBIA successfully created.</td>\n",
       "    </tr>\n",
       "  </tbody>\n",
       "</table>\n",
       "</div>"
      ],
      "text/plain": [
       "                                               status\n",
       "0  Database DOCUMENTOS_COLOMBIA successfully created."
      ]
     },
     "execution_count": 6,
     "metadata": {},
     "output_type": "execute_result"
    }
   ],
   "source": [
    "# Query para crear la base de datos\n",
    "sql_database = \"\"\"\n",
    "CREATE OR REPLACE DATABASE DOCUMENTOS_COLOMBIA;\n",
    "\"\"\"\n",
    "# Ejecutar\n",
    "snow_func.snowflake_sql(conn, sql_database)"
   ]
  },
  {
   "cell_type": "code",
   "execution_count": 7,
   "metadata": {},
   "outputs": [
    {
     "data": {
      "text/html": [
       "<div>\n",
       "<style scoped>\n",
       "    .dataframe tbody tr th:only-of-type {\n",
       "        vertical-align: middle;\n",
       "    }\n",
       "\n",
       "    .dataframe tbody tr th {\n",
       "        vertical-align: top;\n",
       "    }\n",
       "\n",
       "    .dataframe thead th {\n",
       "        text-align: right;\n",
       "    }\n",
       "</style>\n",
       "<table border=\"1\" class=\"dataframe\">\n",
       "  <thead>\n",
       "    <tr style=\"text-align: right;\">\n",
       "      <th></th>\n",
       "      <th>WAREHOUSE</th>\n",
       "      <th>DATABASE</th>\n",
       "      <th>SCHEMA</th>\n",
       "    </tr>\n",
       "  </thead>\n",
       "  <tbody>\n",
       "    <tr>\n",
       "      <th>0</th>\n",
       "      <td>WH_PROCOLOMBIA_ANALITICA</td>\n",
       "      <td>DOCUMENTOS_COLOMBIA</td>\n",
       "      <td>PUBLIC</td>\n",
       "    </tr>\n",
       "  </tbody>\n",
       "</table>\n",
       "</div>"
      ],
      "text/plain": [
       "                  WAREHOUSE             DATABASE  SCHEMA\n",
       "0  WH_PROCOLOMBIA_ANALITICA  DOCUMENTOS_COLOMBIA  PUBLIC"
      ]
     },
     "execution_count": 7,
     "metadata": {},
     "output_type": "execute_result"
    }
   ],
   "source": [
    "# Query para identificar ubicación actual\n",
    "ubicacion = \"SELECT CURRENT_WAREHOUSE() AS WAREHOUSE, CURRENT_DATABASE() AS DATABASE, CURRENT_SCHEMA() AS SCHEMA;\"\n",
    "# Ejecutar\n",
    "snow_func.snowflake_sql(conn, ubicacion)"
   ]
  },
  {
   "cell_type": "markdown",
   "metadata": {},
   "source": [
    "## 2. Crear esquemas"
   ]
  },
  {
   "cell_type": "code",
   "execution_count": 8,
   "metadata": {},
   "outputs": [
    {
     "data": {
      "text/html": [
       "<div>\n",
       "<style scoped>\n",
       "    .dataframe tbody tr th:only-of-type {\n",
       "        vertical-align: middle;\n",
       "    }\n",
       "\n",
       "    .dataframe tbody tr th {\n",
       "        vertical-align: top;\n",
       "    }\n",
       "\n",
       "    .dataframe thead th {\n",
       "        text-align: right;\n",
       "    }\n",
       "</style>\n",
       "<table border=\"1\" class=\"dataframe\">\n",
       "  <thead>\n",
       "    <tr style=\"text-align: right;\">\n",
       "      <th></th>\n",
       "      <th>status</th>\n",
       "    </tr>\n",
       "  </thead>\n",
       "  <tbody>\n",
       "    <tr>\n",
       "      <th>0</th>\n",
       "      <td>Schema EXPORTACIONES successfully created.</td>\n",
       "    </tr>\n",
       "  </tbody>\n",
       "</table>\n",
       "</div>"
      ],
      "text/plain": [
       "                                       status\n",
       "0  Schema EXPORTACIONES successfully created."
      ]
     },
     "execution_count": 8,
     "metadata": {},
     "output_type": "execute_result"
    }
   ],
   "source": [
    "# Crear esquema exportaciones:\n",
    "sql_schema_exportaciones = \"\"\"\n",
    "CREATE OR REPLACE SCHEMA EXPORTACIONES;\n",
    "\"\"\"\n",
    "# Ejecutar\n",
    "snow_func.snowflake_sql(conn, sql_schema_exportaciones)"
   ]
  },
  {
   "cell_type": "code",
   "execution_count": 9,
   "metadata": {},
   "outputs": [
    {
     "data": {
      "text/html": [
       "<div>\n",
       "<style scoped>\n",
       "    .dataframe tbody tr th:only-of-type {\n",
       "        vertical-align: middle;\n",
       "    }\n",
       "\n",
       "    .dataframe tbody tr th {\n",
       "        vertical-align: top;\n",
       "    }\n",
       "\n",
       "    .dataframe thead th {\n",
       "        text-align: right;\n",
       "    }\n",
       "</style>\n",
       "<table border=\"1\" class=\"dataframe\">\n",
       "  <thead>\n",
       "    <tr style=\"text-align: right;\">\n",
       "      <th></th>\n",
       "      <th>status</th>\n",
       "    </tr>\n",
       "  </thead>\n",
       "  <tbody>\n",
       "    <tr>\n",
       "      <th>0</th>\n",
       "      <td>Schema INVERSION successfully created.</td>\n",
       "    </tr>\n",
       "  </tbody>\n",
       "</table>\n",
       "</div>"
      ],
      "text/plain": [
       "                                   status\n",
       "0  Schema INVERSION successfully created."
      ]
     },
     "execution_count": 9,
     "metadata": {},
     "output_type": "execute_result"
    }
   ],
   "source": [
    "# Crear esquema inversión:\n",
    "sql_schema_inversion = \"\"\"\n",
    "CREATE OR REPLACE SCHEMA INVERSION;\n",
    "\"\"\"\n",
    "# Ejecutar\n",
    "snow_func.snowflake_sql(conn, sql_schema_inversion)"
   ]
  },
  {
   "cell_type": "code",
   "execution_count": 10,
   "metadata": {},
   "outputs": [
    {
     "data": {
      "text/html": [
       "<div>\n",
       "<style scoped>\n",
       "    .dataframe tbody tr th:only-of-type {\n",
       "        vertical-align: middle;\n",
       "    }\n",
       "\n",
       "    .dataframe tbody tr th {\n",
       "        vertical-align: top;\n",
       "    }\n",
       "\n",
       "    .dataframe thead th {\n",
       "        text-align: right;\n",
       "    }\n",
       "</style>\n",
       "<table border=\"1\" class=\"dataframe\">\n",
       "  <thead>\n",
       "    <tr style=\"text-align: right;\">\n",
       "      <th></th>\n",
       "      <th>status</th>\n",
       "    </tr>\n",
       "  </thead>\n",
       "  <tbody>\n",
       "    <tr>\n",
       "      <th>0</th>\n",
       "      <td>Schema TURISMO successfully created.</td>\n",
       "    </tr>\n",
       "  </tbody>\n",
       "</table>\n",
       "</div>"
      ],
      "text/plain": [
       "                                 status\n",
       "0  Schema TURISMO successfully created."
      ]
     },
     "execution_count": 10,
     "metadata": {},
     "output_type": "execute_result"
    }
   ],
   "source": [
    "# Crear esquema turismo:\n",
    "sql_schema_turismo = \"\"\"\n",
    "CREATE OR REPLACE SCHEMA TURISMO;\n",
    "\"\"\"\n",
    "# Ejecutar\n",
    "snow_func.snowflake_sql(conn, sql_schema_turismo)"
   ]
  },
  {
   "cell_type": "code",
   "execution_count": 11,
   "metadata": {},
   "outputs": [
    {
     "data": {
      "text/html": [
       "<div>\n",
       "<style scoped>\n",
       "    .dataframe tbody tr th:only-of-type {\n",
       "        vertical-align: middle;\n",
       "    }\n",
       "\n",
       "    .dataframe tbody tr th {\n",
       "        vertical-align: top;\n",
       "    }\n",
       "\n",
       "    .dataframe thead th {\n",
       "        text-align: right;\n",
       "    }\n",
       "</style>\n",
       "<table border=\"1\" class=\"dataframe\">\n",
       "  <thead>\n",
       "    <tr style=\"text-align: right;\">\n",
       "      <th></th>\n",
       "      <th>status</th>\n",
       "    </tr>\n",
       "  </thead>\n",
       "  <tbody>\n",
       "    <tr>\n",
       "      <th>0</th>\n",
       "      <td>Schema GEOGRAFIA successfully created.</td>\n",
       "    </tr>\n",
       "  </tbody>\n",
       "</table>\n",
       "</div>"
      ],
      "text/plain": [
       "                                   status\n",
       "0  Schema GEOGRAFIA successfully created."
      ]
     },
     "execution_count": 11,
     "metadata": {},
     "output_type": "execute_result"
    }
   ],
   "source": [
    "# Crear esquema geografia:\n",
    "sql_schema_geo = \"\"\"\n",
    "CREATE OR REPLACE SCHEMA GEOGRAFIA;\n",
    "\"\"\"\n",
    "# Ejecutar\n",
    "snow_func.snowflake_sql(conn, sql_schema_geo)"
   ]
  },
  {
   "cell_type": "code",
   "execution_count": 12,
   "metadata": {},
   "outputs": [
    {
     "data": {
      "text/html": [
       "<div>\n",
       "<style scoped>\n",
       "    .dataframe tbody tr th:only-of-type {\n",
       "        vertical-align: middle;\n",
       "    }\n",
       "\n",
       "    .dataframe tbody tr th {\n",
       "        vertical-align: top;\n",
       "    }\n",
       "\n",
       "    .dataframe thead th {\n",
       "        text-align: right;\n",
       "    }\n",
       "</style>\n",
       "<table border=\"1\" class=\"dataframe\">\n",
       "  <thead>\n",
       "    <tr style=\"text-align: right;\">\n",
       "      <th></th>\n",
       "      <th>status</th>\n",
       "    </tr>\n",
       "  </thead>\n",
       "  <tbody>\n",
       "    <tr>\n",
       "      <th>0</th>\n",
       "      <td>Schema PARAMETROS successfully created.</td>\n",
       "    </tr>\n",
       "  </tbody>\n",
       "</table>\n",
       "</div>"
      ],
      "text/plain": [
       "                                    status\n",
       "0  Schema PARAMETROS successfully created."
      ]
     },
     "execution_count": 12,
     "metadata": {},
     "output_type": "execute_result"
    }
   ],
   "source": [
    "# Crear esquema PARAMETROS:\n",
    "sql_schema_param = \"\"\"\n",
    "CREATE OR REPLACE SCHEMA PARAMETROS;\n",
    "\"\"\"\n",
    "snow_func.snowflake_sql(conn, sql_schema_param)"
   ]
  },
  {
   "cell_type": "code",
   "execution_count": 13,
   "metadata": {},
   "outputs": [
    {
     "data": {
      "text/html": [
       "<div>\n",
       "<style scoped>\n",
       "    .dataframe tbody tr th:only-of-type {\n",
       "        vertical-align: middle;\n",
       "    }\n",
       "\n",
       "    .dataframe tbody tr th {\n",
       "        vertical-align: top;\n",
       "    }\n",
       "\n",
       "    .dataframe thead th {\n",
       "        text-align: right;\n",
       "    }\n",
       "</style>\n",
       "<table border=\"1\" class=\"dataframe\">\n",
       "  <thead>\n",
       "    <tr style=\"text-align: right;\">\n",
       "      <th></th>\n",
       "      <th>created_on</th>\n",
       "      <th>name</th>\n",
       "      <th>is_default</th>\n",
       "      <th>is_current</th>\n",
       "      <th>database_name</th>\n",
       "      <th>owner</th>\n",
       "      <th>comment</th>\n",
       "      <th>options</th>\n",
       "      <th>retention_time</th>\n",
       "      <th>owner_role_type</th>\n",
       "      <th>budget</th>\n",
       "    </tr>\n",
       "  </thead>\n",
       "  <tbody>\n",
       "    <tr>\n",
       "      <th>0</th>\n",
       "      <td>2024-11-21 12:30:51.367000-08:00</td>\n",
       "      <td>EXPORTACIONES</td>\n",
       "      <td>N</td>\n",
       "      <td>N</td>\n",
       "      <td>DOCUMENTOS_COLOMBIA</td>\n",
       "      <td>ANALYTICS</td>\n",
       "      <td></td>\n",
       "      <td></td>\n",
       "      <td>1</td>\n",
       "      <td>ROLE</td>\n",
       "      <td>None</td>\n",
       "    </tr>\n",
       "    <tr>\n",
       "      <th>1</th>\n",
       "      <td>2024-11-21 12:30:52.065000-08:00</td>\n",
       "      <td>GEOGRAFIA</td>\n",
       "      <td>N</td>\n",
       "      <td>N</td>\n",
       "      <td>DOCUMENTOS_COLOMBIA</td>\n",
       "      <td>ANALYTICS</td>\n",
       "      <td></td>\n",
       "      <td></td>\n",
       "      <td>1</td>\n",
       "      <td>ROLE</td>\n",
       "      <td>None</td>\n",
       "    </tr>\n",
       "    <tr>\n",
       "      <th>2</th>\n",
       "      <td>2024-11-21 12:30:52.564000-08:00</td>\n",
       "      <td>INFORMATION_SCHEMA</td>\n",
       "      <td>N</td>\n",
       "      <td>N</td>\n",
       "      <td>DOCUMENTOS_COLOMBIA</td>\n",
       "      <td></td>\n",
       "      <td>Views describing the contents of schemas in this database</td>\n",
       "      <td></td>\n",
       "      <td>1</td>\n",
       "      <td></td>\n",
       "      <td>None</td>\n",
       "    </tr>\n",
       "    <tr>\n",
       "      <th>3</th>\n",
       "      <td>2024-11-21 12:30:51.578000-08:00</td>\n",
       "      <td>INVERSION</td>\n",
       "      <td>N</td>\n",
       "      <td>N</td>\n",
       "      <td>DOCUMENTOS_COLOMBIA</td>\n",
       "      <td>ANALYTICS</td>\n",
       "      <td></td>\n",
       "      <td></td>\n",
       "      <td>1</td>\n",
       "      <td>ROLE</td>\n",
       "      <td>None</td>\n",
       "    </tr>\n",
       "    <tr>\n",
       "      <th>4</th>\n",
       "      <td>2024-11-21 12:30:52.313000-08:00</td>\n",
       "      <td>PARAMETROS</td>\n",
       "      <td>N</td>\n",
       "      <td>Y</td>\n",
       "      <td>DOCUMENTOS_COLOMBIA</td>\n",
       "      <td>ANALYTICS</td>\n",
       "      <td></td>\n",
       "      <td></td>\n",
       "      <td>1</td>\n",
       "      <td>ROLE</td>\n",
       "      <td>None</td>\n",
       "    </tr>\n",
       "    <tr>\n",
       "      <th>5</th>\n",
       "      <td>2024-11-21 12:30:50.878000-08:00</td>\n",
       "      <td>PUBLIC</td>\n",
       "      <td>N</td>\n",
       "      <td>N</td>\n",
       "      <td>DOCUMENTOS_COLOMBIA</td>\n",
       "      <td>ANALYTICS</td>\n",
       "      <td></td>\n",
       "      <td></td>\n",
       "      <td>1</td>\n",
       "      <td>ROLE</td>\n",
       "      <td>None</td>\n",
       "    </tr>\n",
       "    <tr>\n",
       "      <th>6</th>\n",
       "      <td>2024-11-21 12:30:51.790000-08:00</td>\n",
       "      <td>TURISMO</td>\n",
       "      <td>N</td>\n",
       "      <td>N</td>\n",
       "      <td>DOCUMENTOS_COLOMBIA</td>\n",
       "      <td>ANALYTICS</td>\n",
       "      <td></td>\n",
       "      <td></td>\n",
       "      <td>1</td>\n",
       "      <td>ROLE</td>\n",
       "      <td>None</td>\n",
       "    </tr>\n",
       "  </tbody>\n",
       "</table>\n",
       "</div>"
      ],
      "text/plain": [
       "                        created_on                name is_default is_current  \\\n",
       "0 2024-11-21 12:30:51.367000-08:00  EXPORTACIONES       N          N           \n",
       "1 2024-11-21 12:30:52.065000-08:00  GEOGRAFIA           N          N           \n",
       "2 2024-11-21 12:30:52.564000-08:00  INFORMATION_SCHEMA  N          N           \n",
       "3 2024-11-21 12:30:51.578000-08:00  INVERSION           N          N           \n",
       "4 2024-11-21 12:30:52.313000-08:00  PARAMETROS          N          Y           \n",
       "5 2024-11-21 12:30:50.878000-08:00  PUBLIC              N          N           \n",
       "6 2024-11-21 12:30:51.790000-08:00  TURISMO             N          N           \n",
       "\n",
       "         database_name      owner  \\\n",
       "0  DOCUMENTOS_COLOMBIA  ANALYTICS   \n",
       "1  DOCUMENTOS_COLOMBIA  ANALYTICS   \n",
       "2  DOCUMENTOS_COLOMBIA              \n",
       "3  DOCUMENTOS_COLOMBIA  ANALYTICS   \n",
       "4  DOCUMENTOS_COLOMBIA  ANALYTICS   \n",
       "5  DOCUMENTOS_COLOMBIA  ANALYTICS   \n",
       "6  DOCUMENTOS_COLOMBIA  ANALYTICS   \n",
       "\n",
       "                                                     comment options  \\\n",
       "0                                                                      \n",
       "1                                                                      \n",
       "2  Views describing the contents of schemas in this database           \n",
       "3                                                                      \n",
       "4                                                                      \n",
       "5                                                                      \n",
       "6                                                                      \n",
       "\n",
       "  retention_time owner_role_type budget  \n",
       "0  1              ROLE            None   \n",
       "1  1              ROLE            None   \n",
       "2  1                              None   \n",
       "3  1              ROLE            None   \n",
       "4  1              ROLE            None   \n",
       "5  1              ROLE            None   \n",
       "6  1              ROLE            None   "
      ]
     },
     "execution_count": 13,
     "metadata": {},
     "output_type": "execute_result"
    }
   ],
   "source": [
    "# Verificar la estructura de la base de datos\n",
    "# Crear esquema PARAMETROS:\n",
    "sql_list_schema = \"\"\"\n",
    "SHOW SCHEMAS;\n",
    "\"\"\"\n",
    "# Ejecutar\n",
    "snow_func.snowflake_sql(conn, sql_list_schema)"
   ]
  },
  {
   "cell_type": "markdown",
   "metadata": {},
   "source": [
    "### 2.1 Crear esquema y tabla para realizar seguimiento"
   ]
  },
  {
   "cell_type": "code",
   "execution_count": 6,
   "metadata": {},
   "outputs": [
    {
     "data": {
      "text/html": [
       "<div>\n",
       "<style scoped>\n",
       "    .dataframe tbody tr th:only-of-type {\n",
       "        vertical-align: middle;\n",
       "    }\n",
       "\n",
       "    .dataframe tbody tr th {\n",
       "        vertical-align: top;\n",
       "    }\n",
       "\n",
       "    .dataframe thead th {\n",
       "        text-align: right;\n",
       "    }\n",
       "</style>\n",
       "<table border=\"1\" class=\"dataframe\">\n",
       "  <thead>\n",
       "    <tr style=\"text-align: right;\">\n",
       "      <th></th>\n",
       "      <th>status</th>\n",
       "    </tr>\n",
       "  </thead>\n",
       "  <tbody>\n",
       "    <tr>\n",
       "      <th>0</th>\n",
       "      <td>Statement executed successfully.</td>\n",
       "    </tr>\n",
       "  </tbody>\n",
       "</table>\n",
       "</div>"
      ],
      "text/plain": [
       "                             status\n",
       "0  Statement executed successfully."
      ]
     },
     "execution_count": 6,
     "metadata": {},
     "output_type": "execute_result"
    }
   ],
   "source": [
    "# Ejecutar\n",
    "snow_func.snowflake_sql(conn, \"USE DATABASE DOCUMENTOS_COLOMBIA\")"
   ]
  },
  {
   "cell_type": "code",
   "execution_count": 7,
   "metadata": {},
   "outputs": [
    {
     "data": {
      "text/html": [
       "<div>\n",
       "<style scoped>\n",
       "    .dataframe tbody tr th:only-of-type {\n",
       "        vertical-align: middle;\n",
       "    }\n",
       "\n",
       "    .dataframe tbody tr th {\n",
       "        vertical-align: top;\n",
       "    }\n",
       "\n",
       "    .dataframe thead th {\n",
       "        text-align: right;\n",
       "    }\n",
       "</style>\n",
       "<table border=\"1\" class=\"dataframe\">\n",
       "  <thead>\n",
       "    <tr style=\"text-align: right;\">\n",
       "      <th></th>\n",
       "      <th>status</th>\n",
       "    </tr>\n",
       "  </thead>\n",
       "  <tbody>\n",
       "    <tr>\n",
       "      <th>0</th>\n",
       "      <td>Schema SEGUIMIENTO successfully created.</td>\n",
       "    </tr>\n",
       "  </tbody>\n",
       "</table>\n",
       "</div>"
      ],
      "text/plain": [
       "                                     status\n",
       "0  Schema SEGUIMIENTO successfully created."
      ]
     },
     "execution_count": 7,
     "metadata": {},
     "output_type": "execute_result"
    }
   ],
   "source": [
    "# Verificar la estructura de la base de datos\n",
    "# Crear esquema SEGUIMIENTO:\n",
    "sql_seguimiento_schema = \"\"\"\n",
    "CREATE OR REPLACE SCHEMA SEGUIMIENTO;\n",
    "\"\"\"\n",
    "# Ejecutar\n",
    "snow_func.snowflake_sql(conn, sql_seguimiento_schema)"
   ]
  },
  {
   "cell_type": "code",
   "execution_count": 8,
   "metadata": {},
   "outputs": [
    {
     "data": {
      "text/html": [
       "<div>\n",
       "<style scoped>\n",
       "    .dataframe tbody tr th:only-of-type {\n",
       "        vertical-align: middle;\n",
       "    }\n",
       "\n",
       "    .dataframe tbody tr th {\n",
       "        vertical-align: top;\n",
       "    }\n",
       "\n",
       "    .dataframe thead th {\n",
       "        text-align: right;\n",
       "    }\n",
       "</style>\n",
       "<table border=\"1\" class=\"dataframe\">\n",
       "  <thead>\n",
       "    <tr style=\"text-align: right;\">\n",
       "      <th></th>\n",
       "      <th>WAREHOUSE</th>\n",
       "      <th>DATABASE</th>\n",
       "      <th>SCHEMA</th>\n",
       "    </tr>\n",
       "  </thead>\n",
       "  <tbody>\n",
       "    <tr>\n",
       "      <th>0</th>\n",
       "      <td>WH_PROCOLOMBIA_ANALITICA</td>\n",
       "      <td>DOCUMENTOS_COLOMBIA</td>\n",
       "      <td>SEGUIMIENTO</td>\n",
       "    </tr>\n",
       "  </tbody>\n",
       "</table>\n",
       "</div>"
      ],
      "text/plain": [
       "                  WAREHOUSE             DATABASE       SCHEMA\n",
       "0  WH_PROCOLOMBIA_ANALITICA  DOCUMENTOS_COLOMBIA  SEGUIMIENTO"
      ]
     },
     "execution_count": 8,
     "metadata": {},
     "output_type": "execute_result"
    }
   ],
   "source": [
    "# Query para identificar ubicación actual\n",
    "ubicacion = \"SELECT CURRENT_WAREHOUSE() AS WAREHOUSE, CURRENT_DATABASE() AS DATABASE, CURRENT_SCHEMA() AS SCHEMA;\"\n",
    "# Ejecutar\n",
    "snow_func.snowflake_sql(conn, ubicacion)"
   ]
  },
  {
   "cell_type": "code",
   "execution_count": 9,
   "metadata": {},
   "outputs": [
    {
     "data": {
      "text/html": [
       "<div>\n",
       "<style scoped>\n",
       "    .dataframe tbody tr th:only-of-type {\n",
       "        vertical-align: middle;\n",
       "    }\n",
       "\n",
       "    .dataframe tbody tr th {\n",
       "        vertical-align: top;\n",
       "    }\n",
       "\n",
       "    .dataframe thead th {\n",
       "        text-align: right;\n",
       "    }\n",
       "</style>\n",
       "<table border=\"1\" class=\"dataframe\">\n",
       "  <thead>\n",
       "    <tr style=\"text-align: right;\">\n",
       "      <th></th>\n",
       "      <th>status</th>\n",
       "    </tr>\n",
       "  </thead>\n",
       "  <tbody>\n",
       "    <tr>\n",
       "      <th>0</th>\n",
       "      <td>Table SEGUIMIENTO_EVENTOS successfully created.</td>\n",
       "    </tr>\n",
       "  </tbody>\n",
       "</table>\n",
       "</div>"
      ],
      "text/plain": [
       "                                            status\n",
       "0  Table SEGUIMIENTO_EVENTOS successfully created."
      ]
     },
     "execution_count": 9,
     "metadata": {},
     "output_type": "execute_result"
    }
   ],
   "source": [
    "# Crear tabla de SEGUIMIENTO de eventos principal:\n",
    "sql_tabla_seguimiento = \"\"\"\n",
    "CREATE TABLE SEGUIMIENTO_EVENTOS (\n",
    "    TIPO_EVENTO STRING,\n",
    "    DETALLE_EVENTO STRING,\n",
    "    UNIDAD STRING,\n",
    "    CORREO STRING,\n",
    "    TIPO_BOTON STRING,\n",
    "    FECHA_HORA TIMESTAMP\n",
    ");\n",
    "\"\"\"\n",
    "# Ejecutar\n",
    "snow_func.snowflake_sql(conn, sql_tabla_seguimiento)"
   ]
  },
  {
   "cell_type": "markdown",
   "metadata": {},
   "source": [
    "## 3. Cerrar conexión"
   ]
  },
  {
   "cell_type": "code",
   "execution_count": 10,
   "metadata": {},
   "outputs": [],
   "source": [
    "conn.close()\n",
    "session.close()"
   ]
  }
 ],
 "metadata": {
  "kernelspec": {
   "display_name": ".venv",
   "language": "python",
   "name": "python3"
  },
  "language_info": {
   "codemirror_mode": {
    "name": "ipython",
    "version": 3
   },
   "file_extension": ".py",
   "mimetype": "text/x-python",
   "name": "python",
   "nbconvert_exporter": "python",
   "pygments_lexer": "ipython3",
   "version": "3.11.0"
  }
 },
 "nbformat": 4,
 "nbformat_minor": 2
}
