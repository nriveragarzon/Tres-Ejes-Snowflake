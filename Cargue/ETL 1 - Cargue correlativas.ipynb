{
 "cells": [
  {
   "cell_type": "markdown",
   "metadata": {},
   "source": [
    "# ETL: Geografía y Correlativas de turismo"
   ]
  },
  {
   "cell_type": "markdown",
   "metadata": {},
   "source": [
    "## Librerias"
   ]
  },
  {
   "cell_type": "code",
   "execution_count": 1,
   "metadata": {},
   "outputs": [],
   "source": [
    "# Generales\n",
    "import pandas as pd\n",
    "import numpy as np\n",
    "import time\n",
    "import re\n",
    "import warnings\n",
    "\n",
    "warnings.filterwarnings('ignore')\n",
    "\n",
    "# Funciones Snowflake\n",
    "import funciones as snow_func"
   ]
  },
  {
   "cell_type": "code",
   "execution_count": 2,
   "metadata": {},
   "outputs": [],
   "source": [
    "# Aumentar número de columnas que se pueden ver\n",
    "pd.options.display.max_columns = None\n",
    "# En los dataframes, mostrar los float con dos decimales\n",
    "pd.options.display.float_format = '{:,.10f}'.format\n",
    "# Cada columna será tan grande como sea necesario para mostrar todo su contenido\n",
    "pd.set_option('display.max_colwidth', 0)"
   ]
  },
  {
   "cell_type": "markdown",
   "metadata": {},
   "source": [
    "### Snowflake"
   ]
  },
  {
   "cell_type": "code",
   "execution_count": 3,
   "metadata": {},
   "outputs": [],
   "source": [
    "# Librerias necesarias para subir a Snowflake\n",
    "import os\n",
    "import json\n",
    "import snowflake.connector # [pip install snowflake-connector-python]\n",
    "from snowflake.connector.pandas_tools import write_pandas # [pip install \"snowflake-connector-python[pandas]\"]\n",
    "from snowflake.snowpark import Session"
   ]
  },
  {
   "cell_type": "code",
   "execution_count": 4,
   "metadata": {},
   "outputs": [
    {
     "name": "stdout",
     "output_type": "stream",
     "text": [
      "Sesión actual: {<snowflake.snowpark.session.Session object at 0x0000019EE6A148D0>}\n"
     ]
    }
   ],
   "source": [
    "# Paso 1: Definir la ruta al archivo JSON en el escritorio\n",
    "desktop_path = os.path.join(os.path.expanduser(\"~\"), \"Desktop\\Conn\")\n",
    "json_file_path = os.path.join(desktop_path, \"snowflake_credentials.json\")\n",
    "\n",
    "# Paso 2: Leer las credenciales desde el archivo JSON\n",
    "with open(json_file_path, 'r') as file:\n",
    "    credentials = json.load(file)\n",
    "\n",
    "# Paso 3: Definir los parámetros de conexión usando las credenciales\n",
    "connection_parameters = {\n",
    "        \"account\": credentials[\"ACCOUNT_SNOWFLAKE\"],\n",
    "        \"user\": credentials[\"USER_SNOWFLAKE\"],\n",
    "        \"password\": credentials[\"PASSWORD_SNOWFLAKE\"],\n",
    "        \"role\": credentials[\"ROLE_SNOWFLAKE\"],\n",
    "        \"warehouse\": credentials[\"WAREHOUSE\"]\n",
    "    }\n",
    "\n",
    "# Paso 5: Crear un objeto de conexión utilizando snowflake.connector\n",
    "session = Session.builder.configs(connection_parameters).create()\n",
    "print(\"Sesión actual:\", {session})"
   ]
  },
  {
   "cell_type": "code",
   "execution_count": 5,
   "metadata": {},
   "outputs": [],
   "source": [
    "# Crear objeto de conexión\n",
    "conn = session.connection"
   ]
  },
  {
   "cell_type": "markdown",
   "metadata": {},
   "source": [
    "## 1. Divipola"
   ]
  },
  {
   "cell_type": "code",
   "execution_count": 6,
   "metadata": {},
   "outputs": [],
   "source": [
    "# Solo se debe cambiar la ubicación del archivo\n",
    "path_insumos = \"C:/Users/nrivera/OneDrive - PROCOLOMBIA/Documentos/017B-Documentos-Colombia/Cargue/Insumos/GEOGRAFIA/\"\n",
    "divipola_file = 'DIVIPOLA.xlsx'"
   ]
  },
  {
   "cell_type": "code",
   "execution_count": 7,
   "metadata": {},
   "outputs": [],
   "source": [
    "# Importar datos\n",
    "df_departamentos_divipola = pd.read_excel(path_insumos + divipola_file, sheet_name=\"Departamento\", dtype=str)\n",
    "df_municipio_divipola = pd.read_excel(path_insumos + divipola_file, sheet_name=\"Municipio\", dtype=str)\n",
    "df_departamentos_municipio_divipola = pd.read_excel(path_insumos + divipola_file, sheet_name=\"Departamento - Municipio\", dtype=str)"
   ]
  },
  {
   "cell_type": "markdown",
   "metadata": {},
   "source": [
    "## 2. Departamentos DIAN - DANE"
   ]
  },
  {
   "cell_type": "code",
   "execution_count": 8,
   "metadata": {},
   "outputs": [],
   "source": [
    "# Solo se debe cambiar la ubicación del archivo\n",
    "departamentos_file = 'Departamentos - DIAN - DIVIPOLA.xlsx'"
   ]
  },
  {
   "cell_type": "code",
   "execution_count": 9,
   "metadata": {},
   "outputs": [],
   "source": [
    "# Importar datos\n",
    "df_dian_departamentos = pd.read_excel(path_insumos + departamentos_file, sheet_name=\"DEPARTAMENTO\", dtype=str)"
   ]
  },
  {
   "cell_type": "markdown",
   "metadata": {},
   "source": [
    "## 3. MODELO RELACIONAL DE PAÍSES"
   ]
  },
  {
   "cell_type": "code",
   "execution_count": 10,
   "metadata": {},
   "outputs": [],
   "source": [
    "# Solo se debe cambiar la ubicación del archivo\n",
    "correlativa_file = 'MODELO_RELACIONAL.xlsx'"
   ]
  },
  {
   "cell_type": "code",
   "execution_count": 11,
   "metadata": {},
   "outputs": [],
   "source": [
    "# Importar datos\n",
    "df_continentes = pd.read_excel(path_insumos + correlativa_file, sheet_name=\"CONTINENTES\", dtype=str)\n",
    "df_hubs = pd.read_excel(path_insumos + correlativa_file, sheet_name=\"HUB\", dtype=str)\n",
    "df_region = pd.read_excel(path_insumos + correlativa_file, sheet_name=\"SUBREGION\", dtype=str)\n",
    "df_paises = pd.read_excel(path_insumos + correlativa_file, sheet_name=\"PAISES\", dtype=str)\n",
    "df_paises_exportaciones = pd.read_excel(path_insumos + correlativa_file, sheet_name=\"EXPORTACIONES\", dtype=str)\n",
    "df_paises_inversion = pd.read_excel(path_insumos + correlativa_file, sheet_name=\"INVERSION\", dtype=str)\n",
    "df_paises_turismo = pd.read_excel(path_insumos + correlativa_file, sheet_name=\"TURISMO\", dtype=str)\n",
    "df_tlcs = pd.read_excel(path_insumos + correlativa_file, sheet_name=\"TLCS\", dtype=str)\n",
    "df_paises_tlcs = pd.read_excel(path_insumos + correlativa_file, sheet_name=\"TLCS_PAISES\", dtype=str)\n",
    "df_tlcs_tabla = pd.read_excel(path_insumos + correlativa_file, sheet_name=\"TLCS_TABLA\", dtype=str)"
   ]
  },
  {
   "cell_type": "code",
   "execution_count": 12,
   "metadata": {},
   "outputs": [],
   "source": [
    "# Eliminar la columna de validación manual\n",
    "df_paises_exportaciones = df_paises_exportaciones.drop(columns=[\"¿ESTA_EN_PAISES?\"])\n",
    "df_paises_inversion = df_paises_inversion.drop(columns=[\"¿ESTA_EN_PAISES?\"])\n",
    "df_paises_turismo = df_paises_turismo.drop(columns=[\"¿ESTA_EN_PAISES?\"])\n",
    "df_tlcs_tabla = df_tlcs_tabla.drop(columns=[\"¿ESTA_EN_PAISES?\"])\n",
    "df_tlcs_tabla = df_tlcs_tabla.drop(columns=[\"¿ESTA_EN_EXPORTACIONES?\"])"
   ]
  },
  {
   "cell_type": "markdown",
   "metadata": {},
   "source": [
    "# 4. Subir a Snowflake - Geografía"
   ]
  },
  {
   "cell_type": "markdown",
   "metadata": {},
   "source": [
    "##### Usar base de datos para análisis"
   ]
  },
  {
   "cell_type": "code",
   "execution_count": 13,
   "metadata": {},
   "outputs": [
    {
     "data": {
      "text/html": [
       "<div>\n",
       "<style scoped>\n",
       "    .dataframe tbody tr th:only-of-type {\n",
       "        vertical-align: middle;\n",
       "    }\n",
       "\n",
       "    .dataframe tbody tr th {\n",
       "        vertical-align: top;\n",
       "    }\n",
       "\n",
       "    .dataframe thead th {\n",
       "        text-align: right;\n",
       "    }\n",
       "</style>\n",
       "<table border=\"1\" class=\"dataframe\">\n",
       "  <thead>\n",
       "    <tr style=\"text-align: right;\">\n",
       "      <th></th>\n",
       "      <th>status</th>\n",
       "    </tr>\n",
       "  </thead>\n",
       "  <tbody>\n",
       "    <tr>\n",
       "      <th>0</th>\n",
       "      <td>Statement executed successfully.</td>\n",
       "    </tr>\n",
       "  </tbody>\n",
       "</table>\n",
       "</div>"
      ],
      "text/plain": [
       "                             status\n",
       "0  Statement executed successfully."
      ]
     },
     "execution_count": 13,
     "metadata": {},
     "output_type": "execute_result"
    }
   ],
   "source": [
    "# Usar base de datos:\n",
    "sql_database_usar = \"\"\"\n",
    "USE DOCUMENTOS_COLOMBIA;\n",
    "\"\"\"\n",
    "# Ejecutar\n",
    "snow_func.snowflake_sql(conn, sql_database_usar)"
   ]
  },
  {
   "cell_type": "code",
   "execution_count": 14,
   "metadata": {},
   "outputs": [
    {
     "data": {
      "text/html": [
       "<div>\n",
       "<style scoped>\n",
       "    .dataframe tbody tr th:only-of-type {\n",
       "        vertical-align: middle;\n",
       "    }\n",
       "\n",
       "    .dataframe tbody tr th {\n",
       "        vertical-align: top;\n",
       "    }\n",
       "\n",
       "    .dataframe thead th {\n",
       "        text-align: right;\n",
       "    }\n",
       "</style>\n",
       "<table border=\"1\" class=\"dataframe\">\n",
       "  <thead>\n",
       "    <tr style=\"text-align: right;\">\n",
       "      <th></th>\n",
       "      <th>status</th>\n",
       "    </tr>\n",
       "  </thead>\n",
       "  <tbody>\n",
       "    <tr>\n",
       "      <th>0</th>\n",
       "      <td>Statement executed successfully.</td>\n",
       "    </tr>\n",
       "  </tbody>\n",
       "</table>\n",
       "</div>"
      ],
      "text/plain": [
       "                             status\n",
       "0  Statement executed successfully."
      ]
     },
     "execution_count": 14,
     "metadata": {},
     "output_type": "execute_result"
    }
   ],
   "source": [
    "# Crear esquema geografia:\n",
    "sql_schema_geo = \"\"\"\n",
    "USE SCHEMA GEOGRAFIA;\n",
    "\"\"\"\n",
    "# Ejecutar\n",
    "snow_func.snowflake_sql(conn, sql_schema_geo)"
   ]
  },
  {
   "cell_type": "code",
   "execution_count": 15,
   "metadata": {},
   "outputs": [
    {
     "data": {
      "text/html": [
       "<div>\n",
       "<style scoped>\n",
       "    .dataframe tbody tr th:only-of-type {\n",
       "        vertical-align: middle;\n",
       "    }\n",
       "\n",
       "    .dataframe tbody tr th {\n",
       "        vertical-align: top;\n",
       "    }\n",
       "\n",
       "    .dataframe thead th {\n",
       "        text-align: right;\n",
       "    }\n",
       "</style>\n",
       "<table border=\"1\" class=\"dataframe\">\n",
       "  <thead>\n",
       "    <tr style=\"text-align: right;\">\n",
       "      <th></th>\n",
       "      <th>WAREHOUSE</th>\n",
       "      <th>DATABASE</th>\n",
       "      <th>SCHEMA</th>\n",
       "    </tr>\n",
       "  </thead>\n",
       "  <tbody>\n",
       "    <tr>\n",
       "      <th>0</th>\n",
       "      <td>WH_PROCOLOMBIA_ANALITICA</td>\n",
       "      <td>DOCUMENTOS_COLOMBIA</td>\n",
       "      <td>GEOGRAFIA</td>\n",
       "    </tr>\n",
       "  </tbody>\n",
       "</table>\n",
       "</div>"
      ],
      "text/plain": [
       "                  WAREHOUSE             DATABASE     SCHEMA\n",
       "0  WH_PROCOLOMBIA_ANALITICA  DOCUMENTOS_COLOMBIA  GEOGRAFIA"
      ]
     },
     "execution_count": 15,
     "metadata": {},
     "output_type": "execute_result"
    }
   ],
   "source": [
    "# Asegurar que estamos en la ubicación que se desea para subir las bases de datos\n",
    "ubicacion = \"SELECT CURRENT_WAREHOUSE() AS WAREHOUSE, CURRENT_DATABASE() AS DATABASE, CURRENT_SCHEMA() AS SCHEMA;\"\n",
    "# Ejecutar\n",
    "snow_func.snowflake_sql(conn, ubicacion)"
   ]
  },
  {
   "cell_type": "markdown",
   "metadata": {},
   "source": [
    "##### SUBIR BASES DE DATOS"
   ]
  },
  {
   "cell_type": "code",
   "execution_count": 16,
   "metadata": {},
   "outputs": [],
   "source": [
    "# Lista de pd a subir\n",
    "bases_de_datos = [\n",
    "    df_departamentos_divipola,\n",
    "    df_municipio_divipola,\n",
    "    df_departamentos_municipio_divipola,\n",
    "    df_dian_departamentos,\n",
    "    df_continentes,\n",
    "    df_region,\n",
    "    df_paises,\n",
    "    df_paises_exportaciones,\n",
    "    df_paises_inversion,\n",
    "    df_paises_turismo,\n",
    "    df_tlcs,\n",
    "    df_paises_tlcs,\n",
    "    df_tlcs_tabla,\n",
    "    df_hubs\n",
    "    ]\n",
    "\n",
    "nombres_tablas = [\n",
    "    'DIVIPOLA_DEPARTAMENTOS',\n",
    "    'DIVIPOLA_MUNICIPIOS',\n",
    "    'DIVIPOLA_DEPARTAMENTOS_MUNICIPIOS',\n",
    "    'DIAN_DEPARTAMENTOS',\n",
    "    'CONTINENTES',\n",
    "    'REGIONES',\n",
    "    'PAISES',\n",
    "    'PAISES_EXPORTACIONES',\n",
    "    'PAISES_INVERSION',\n",
    "    'PAISES_TURISMO',\n",
    "    'TLCS',\n",
    "    'TLCS_PAISES',\n",
    "    'TLCS_TABLA',\n",
    "    'HUBS'\n",
    "]"
   ]
  },
  {
   "cell_type": "code",
   "execution_count": 17,
   "metadata": {},
   "outputs": [],
   "source": [
    "# pd de verificación\n",
    "df_resultados_verificacion = pd.DataFrame()\n",
    "# Subir y verificar bases a Snowflake\n",
    "for base, tabla in zip(bases_de_datos, nombres_tablas):\n",
    "    # Cargar el DataFrame en Snowflake y capturar el mensaje de carga\n",
    "    mensaje_carga = snow_func.snowflake_cargar_df(conn, base, f'{tabla}')\n",
    "    \n",
    "    # Verificar y almacenar el resultado en el DataFrame\n",
    "    resultado = snow_func.snowflake_sql(conn, f\"SELECT COUNT(*) FROM {tabla};\")\n",
    "    total_registros = resultado  # Extraer el total de registros\n",
    "\n",
    "    # Crear un DataFrame temporal para la nueva fila\n",
    "    nueva_fila = pd.DataFrame({\n",
    "        'Tabla': [tabla],\n",
    "        'Total_Registros': [total_registros],\n",
    "        'Mensaje_Carga': [mensaje_carga]\n",
    "    })\n",
    "\n",
    "    # Concatenar la nueva fila al DataFrame de resultados\n",
    "    df_resultados_verificacion = pd.concat([df_resultados_verificacion, nueva_fila], ignore_index=True)"
   ]
  },
  {
   "cell_type": "code",
   "execution_count": 18,
   "metadata": {},
   "outputs": [
    {
     "data": {
      "text/html": [
       "<div>\n",
       "<style scoped>\n",
       "    .dataframe tbody tr th:only-of-type {\n",
       "        vertical-align: middle;\n",
       "    }\n",
       "\n",
       "    .dataframe tbody tr th {\n",
       "        vertical-align: top;\n",
       "    }\n",
       "\n",
       "    .dataframe thead th {\n",
       "        text-align: right;\n",
       "    }\n",
       "</style>\n",
       "<table border=\"1\" class=\"dataframe\">\n",
       "  <thead>\n",
       "    <tr style=\"text-align: right;\">\n",
       "      <th></th>\n",
       "      <th>Tabla</th>\n",
       "      <th>Total_Registros</th>\n",
       "      <th>Mensaje_Carga</th>\n",
       "    </tr>\n",
       "  </thead>\n",
       "  <tbody>\n",
       "    <tr>\n",
       "      <th>0</th>\n",
       "      <td>DIVIPOLA_DEPARTAMENTOS</td>\n",
       "      <td>COUNT(*)\n",
       "0  34</td>\n",
       "      <td>DataFrame cargado exitosamente en la tabla: 34 filas en 1 chunks.\\nTiempo de carga: 2.32 segundos.\\nProceso terminado</td>\n",
       "    </tr>\n",
       "    <tr>\n",
       "      <th>1</th>\n",
       "      <td>DIVIPOLA_MUNICIPIOS</td>\n",
       "      <td>COUNT(*)\n",
       "0  1123</td>\n",
       "      <td>DataFrame cargado exitosamente en la tabla: 1123 filas en 1 chunks.\\nTiempo de carga: 1.80 segundos.\\nProceso terminado</td>\n",
       "    </tr>\n",
       "    <tr>\n",
       "      <th>2</th>\n",
       "      <td>DIVIPOLA_DEPARTAMENTOS_MUNICIPIOS</td>\n",
       "      <td>COUNT(*)\n",
       "0  1122</td>\n",
       "      <td>DataFrame cargado exitosamente en la tabla: 1122 filas en 1 chunks.\\nTiempo de carga: 2.41 segundos.\\nProceso terminado</td>\n",
       "    </tr>\n",
       "    <tr>\n",
       "      <th>3</th>\n",
       "      <td>DIAN_DEPARTAMENTOS</td>\n",
       "      <td>COUNT(*)\n",
       "0  35</td>\n",
       "      <td>DataFrame cargado exitosamente en la tabla: 35 filas en 1 chunks.\\nTiempo de carga: 1.86 segundos.\\nProceso terminado</td>\n",
       "    </tr>\n",
       "    <tr>\n",
       "      <th>4</th>\n",
       "      <td>CONTINENTES</td>\n",
       "      <td>COUNT(*)\n",
       "0  9</td>\n",
       "      <td>DataFrame cargado exitosamente en la tabla: 9 filas en 1 chunks.\\nTiempo de carga: 1.84 segundos.\\nProceso terminado</td>\n",
       "    </tr>\n",
       "    <tr>\n",
       "      <th>5</th>\n",
       "      <td>REGIONES</td>\n",
       "      <td>COUNT(*)\n",
       "0  17</td>\n",
       "      <td>DataFrame cargado exitosamente en la tabla: 17 filas en 1 chunks.\\nTiempo de carga: 2.64 segundos.\\nProceso terminado</td>\n",
       "    </tr>\n",
       "    <tr>\n",
       "      <th>6</th>\n",
       "      <td>PAISES</td>\n",
       "      <td>COUNT(*)\n",
       "0  264</td>\n",
       "      <td>DataFrame cargado exitosamente en la tabla: 264 filas en 1 chunks.\\nTiempo de carga: 2.74 segundos.\\nProceso terminado</td>\n",
       "    </tr>\n",
       "    <tr>\n",
       "      <th>7</th>\n",
       "      <td>PAISES_EXPORTACIONES</td>\n",
       "      <td>COUNT(*)\n",
       "0  235</td>\n",
       "      <td>DataFrame cargado exitosamente en la tabla: 235 filas en 1 chunks.\\nTiempo de carga: 2.31 segundos.\\nProceso terminado</td>\n",
       "    </tr>\n",
       "    <tr>\n",
       "      <th>8</th>\n",
       "      <td>PAISES_INVERSION</td>\n",
       "      <td>COUNT(*)\n",
       "0  87</td>\n",
       "      <td>DataFrame cargado exitosamente en la tabla: 87 filas en 1 chunks.\\nTiempo de carga: 1.79 segundos.\\nProceso terminado</td>\n",
       "    </tr>\n",
       "    <tr>\n",
       "      <th>9</th>\n",
       "      <td>PAISES_TURISMO</td>\n",
       "      <td>COUNT(*)\n",
       "0  297</td>\n",
       "      <td>DataFrame cargado exitosamente en la tabla: 297 filas en 1 chunks.\\nTiempo de carga: 1.96 segundos.\\nProceso terminado</td>\n",
       "    </tr>\n",
       "    <tr>\n",
       "      <th>10</th>\n",
       "      <td>TLCS</td>\n",
       "      <td>COUNT(*)\n",
       "0  9</td>\n",
       "      <td>DataFrame cargado exitosamente en la tabla: 9 filas en 1 chunks.\\nTiempo de carga: 2.38 segundos.\\nProceso terminado</td>\n",
       "    </tr>\n",
       "    <tr>\n",
       "      <th>11</th>\n",
       "      <td>TLCS_PAISES</td>\n",
       "      <td>COUNT(*)\n",
       "0  94</td>\n",
       "      <td>DataFrame cargado exitosamente en la tabla: 94 filas en 1 chunks.\\nTiempo de carga: 2.05 segundos.\\nProceso terminado</td>\n",
       "    </tr>\n",
       "    <tr>\n",
       "      <th>12</th>\n",
       "      <td>TLCS_TABLA</td>\n",
       "      <td>COUNT(*)\n",
       "0  68</td>\n",
       "      <td>DataFrame cargado exitosamente en la tabla: 68 filas en 1 chunks.\\nTiempo de carga: 2.09 segundos.\\nProceso terminado</td>\n",
       "    </tr>\n",
       "    <tr>\n",
       "      <th>13</th>\n",
       "      <td>HUBS</td>\n",
       "      <td>COUNT(*)\n",
       "0  7</td>\n",
       "      <td>DataFrame cargado exitosamente en la tabla: 7 filas en 1 chunks.\\nTiempo de carga: 1.78 segundos.\\nProceso terminado</td>\n",
       "    </tr>\n",
       "  </tbody>\n",
       "</table>\n",
       "</div>"
      ],
      "text/plain": [
       "                                Tabla          Total_Registros  \\\n",
       "0   DIVIPOLA_DEPARTAMENTOS                COUNT(*)\n",
       "0  34         \n",
       "1   DIVIPOLA_MUNICIPIOS                   COUNT(*)\n",
       "0  1123       \n",
       "2   DIVIPOLA_DEPARTAMENTOS_MUNICIPIOS     COUNT(*)\n",
       "0  1122       \n",
       "3   DIAN_DEPARTAMENTOS                    COUNT(*)\n",
       "0  35         \n",
       "4   CONTINENTES                           COUNT(*)\n",
       "0  9          \n",
       "5   REGIONES                              COUNT(*)\n",
       "0  17         \n",
       "6   PAISES                                COUNT(*)\n",
       "0  264        \n",
       "7   PAISES_EXPORTACIONES                  COUNT(*)\n",
       "0  235        \n",
       "8   PAISES_INVERSION                      COUNT(*)\n",
       "0  87         \n",
       "9   PAISES_TURISMO                        COUNT(*)\n",
       "0  297        \n",
       "10  TLCS                                  COUNT(*)\n",
       "0  9          \n",
       "11  TLCS_PAISES                           COUNT(*)\n",
       "0  94         \n",
       "12  TLCS_TABLA                            COUNT(*)\n",
       "0  68         \n",
       "13  HUBS                                  COUNT(*)\n",
       "0  7          \n",
       "\n",
       "                                                                                                              Mensaje_Carga  \n",
       "0   DataFrame cargado exitosamente en la tabla: 34 filas en 1 chunks.\\nTiempo de carga: 2.32 segundos.\\nProceso terminado    \n",
       "1   DataFrame cargado exitosamente en la tabla: 1123 filas en 1 chunks.\\nTiempo de carga: 1.80 segundos.\\nProceso terminado  \n",
       "2   DataFrame cargado exitosamente en la tabla: 1122 filas en 1 chunks.\\nTiempo de carga: 2.41 segundos.\\nProceso terminado  \n",
       "3   DataFrame cargado exitosamente en la tabla: 35 filas en 1 chunks.\\nTiempo de carga: 1.86 segundos.\\nProceso terminado    \n",
       "4   DataFrame cargado exitosamente en la tabla: 9 filas en 1 chunks.\\nTiempo de carga: 1.84 segundos.\\nProceso terminado     \n",
       "5   DataFrame cargado exitosamente en la tabla: 17 filas en 1 chunks.\\nTiempo de carga: 2.64 segundos.\\nProceso terminado    \n",
       "6   DataFrame cargado exitosamente en la tabla: 264 filas en 1 chunks.\\nTiempo de carga: 2.74 segundos.\\nProceso terminado   \n",
       "7   DataFrame cargado exitosamente en la tabla: 235 filas en 1 chunks.\\nTiempo de carga: 2.31 segundos.\\nProceso terminado   \n",
       "8   DataFrame cargado exitosamente en la tabla: 87 filas en 1 chunks.\\nTiempo de carga: 1.79 segundos.\\nProceso terminado    \n",
       "9   DataFrame cargado exitosamente en la tabla: 297 filas en 1 chunks.\\nTiempo de carga: 1.96 segundos.\\nProceso terminado   \n",
       "10  DataFrame cargado exitosamente en la tabla: 9 filas en 1 chunks.\\nTiempo de carga: 2.38 segundos.\\nProceso terminado     \n",
       "11  DataFrame cargado exitosamente en la tabla: 94 filas en 1 chunks.\\nTiempo de carga: 2.05 segundos.\\nProceso terminado    \n",
       "12  DataFrame cargado exitosamente en la tabla: 68 filas en 1 chunks.\\nTiempo de carga: 2.09 segundos.\\nProceso terminado    \n",
       "13  DataFrame cargado exitosamente en la tabla: 7 filas en 1 chunks.\\nTiempo de carga: 1.78 segundos.\\nProceso terminado     "
      ]
     },
     "execution_count": 18,
     "metadata": {},
     "output_type": "execute_result"
    }
   ],
   "source": [
    "# Ver resultados\n",
    "df_resultados_verificacion"
   ]
  },
  {
   "cell_type": "markdown",
   "metadata": {},
   "source": [
    "##### CREAR TABLA CONSOLIDADA"
   ]
  },
  {
   "cell_type": "code",
   "execution_count": 19,
   "metadata": {},
   "outputs": [
    {
     "data": {
      "text/html": [
       "<div>\n",
       "<style scoped>\n",
       "    .dataframe tbody tr th:only-of-type {\n",
       "        vertical-align: middle;\n",
       "    }\n",
       "\n",
       "    .dataframe tbody tr th {\n",
       "        vertical-align: top;\n",
       "    }\n",
       "\n",
       "    .dataframe thead th {\n",
       "        text-align: right;\n",
       "    }\n",
       "</style>\n",
       "<table border=\"1\" class=\"dataframe\">\n",
       "  <thead>\n",
       "    <tr style=\"text-align: right;\">\n",
       "      <th></th>\n",
       "      <th>status</th>\n",
       "    </tr>\n",
       "  </thead>\n",
       "  <tbody>\n",
       "    <tr>\n",
       "      <th>0</th>\n",
       "      <td>Table ST_PAISES successfully created.</td>\n",
       "    </tr>\n",
       "  </tbody>\n",
       "</table>\n",
       "</div>"
      ],
      "text/plain": [
       "                                  status\n",
       "0  Table ST_PAISES successfully created."
      ]
     },
     "execution_count": 19,
     "metadata": {},
     "output_type": "execute_result"
    }
   ],
   "source": [
    "# Query para crear la tabla\n",
    "sql_consolidada = \"\"\"\n",
    "CREATE OR REPLACE TABLE DOCUMENTOS_COLOMBIA.GEOGRAFIA.ST_PAISES AS\n",
    "SELECT PAISES.M49_CODE,\n",
    "    PAISES.ISO_ALPHA2_CODE,\n",
    "    PAISES.ISO_ALPHA3_CODE,\n",
    "    PAISES.COUNTRY_OR_AREA,\n",
    "    PAISES.REGION_CODE,\n",
    "    PAISES.SUB_REGION_CODE,\n",
    "    PAISES.COD_NEO,\n",
    "    PAISES_EXPORTACIONES.PAIS_LLAVE_EXPORTACIONES,\n",
    "    PAISES_EXPORTACIONES.REGION_NAME_EXPORTACIONES,\n",
    "    PAISES_EXPORTACIONES.HUB_NAME_EXPORTACIONES,\n",
    "    PAISES_INVERSION.PAIS_INVERSION_BANREP,\n",
    "    PAISES_TURISMO.CODIGO_PAIS_MIGRACION,\n",
    "    PAISES_TURISMO.NOMBRE_PAIS_MIGRACION,\n",
    "    PAISES_TURISMO.REGION_NAME_TURISMO,\n",
    "    PAISES_TURISMO.REGION_NAME_TURISMO_AGREGADA,\n",
    "    PAISES_TURISMO.HUB_NAME_TURISMO,\n",
    "    TLCS_PAISES.ID_TLC,\n",
    "    TLCS.NOMBRE_TLC,\n",
    "    CONTINENTES.REGION_NAME\n",
    "FROM DOCUMENTOS_COLOMBIA.GEOGRAFIA.PAISES AS PAISES\n",
    "LEFT JOIN DOCUMENTOS_COLOMBIA.GEOGRAFIA.PAISES_EXPORTACIONES AS PAISES_EXPORTACIONES ON PAISES.M49_CODE = PAISES_EXPORTACIONES.M49_CODE\n",
    "LEFT JOIN DOCUMENTOS_COLOMBIA.GEOGRAFIA.PAISES_INVERSION AS PAISES_INVERSION ON PAISES.M49_CODE = PAISES_INVERSION.M49_CODE\n",
    "LEFT JOIN DOCUMENTOS_COLOMBIA.GEOGRAFIA.PAISES_TURISMO AS PAISES_TURISMO ON PAISES.M49_CODE = PAISES_TURISMO.M49_CODE\n",
    "LEFT JOIN DOCUMENTOS_COLOMBIA.GEOGRAFIA.TLCS_PAISES AS TLCS_PAISES ON PAISES.M49_CODE = TLCS_PAISES.M49_CODE\n",
    "LEFT JOIN DOCUMENTOS_COLOMBIA.GEOGRAFIA.TLCS AS TLCS ON TLCS_PAISES.ID_TLC = TLCS.ID_TLC\n",
    "LEFT JOIN DOCUMENTOS_COLOMBIA.GEOGRAFIA.CONTINENTES AS CONTINENTES ON PAISES.REGION_CODE = CONTINENTES.REGION_CODE;\n",
    "\"\"\"\n",
    "# Ejecutar\n",
    "snow_func.snowflake_sql(conn, sql_consolidada)"
   ]
  },
  {
   "cell_type": "code",
   "execution_count": 20,
   "metadata": {},
   "outputs": [
    {
     "data": {
      "text/html": [
       "<div>\n",
       "<style scoped>\n",
       "    .dataframe tbody tr th:only-of-type {\n",
       "        vertical-align: middle;\n",
       "    }\n",
       "\n",
       "    .dataframe tbody tr th {\n",
       "        vertical-align: top;\n",
       "    }\n",
       "\n",
       "    .dataframe thead th {\n",
       "        text-align: right;\n",
       "    }\n",
       "</style>\n",
       "<table border=\"1\" class=\"dataframe\">\n",
       "  <thead>\n",
       "    <tr style=\"text-align: right;\">\n",
       "      <th></th>\n",
       "      <th>number of rows updated</th>\n",
       "      <th>number of multi-joined rows updated</th>\n",
       "    </tr>\n",
       "  </thead>\n",
       "  <tbody>\n",
       "    <tr>\n",
       "      <th>0</th>\n",
       "      <td>40</td>\n",
       "      <td>0</td>\n",
       "    </tr>\n",
       "  </tbody>\n",
       "</table>\n",
       "</div>"
      ],
      "text/plain": [
       "   number of rows updated  number of multi-joined rows updated\n",
       "0  40                      0                                  "
      ]
     },
     "execution_count": 20,
     "metadata": {},
     "output_type": "execute_result"
    }
   ],
   "source": [
    "# Rellenar vacíos\n",
    "# Ejecutar\n",
    "snow_func.snowflake_sql(conn, \"\"\"\n",
    "UPDATE DOCUMENTOS_COLOMBIA.GEOGRAFIA.ST_PAISES\n",
    "SET PAIS_LLAVE_EXPORTACIONES = 'PAÍS NO INCLUIDO'\n",
    "WHERE PAIS_LLAVE_EXPORTACIONES IS NULL;\n",
    "\"\"\")"
   ]
  },
  {
   "cell_type": "code",
   "execution_count": 21,
   "metadata": {},
   "outputs": [
    {
     "data": {
      "text/html": [
       "<div>\n",
       "<style scoped>\n",
       "    .dataframe tbody tr th:only-of-type {\n",
       "        vertical-align: middle;\n",
       "    }\n",
       "\n",
       "    .dataframe tbody tr th {\n",
       "        vertical-align: top;\n",
       "    }\n",
       "\n",
       "    .dataframe thead th {\n",
       "        text-align: right;\n",
       "    }\n",
       "</style>\n",
       "<table border=\"1\" class=\"dataframe\">\n",
       "  <thead>\n",
       "    <tr style=\"text-align: right;\">\n",
       "      <th></th>\n",
       "      <th>number of rows updated</th>\n",
       "      <th>number of multi-joined rows updated</th>\n",
       "    </tr>\n",
       "  </thead>\n",
       "  <tbody>\n",
       "    <tr>\n",
       "      <th>0</th>\n",
       "      <td>212</td>\n",
       "      <td>0</td>\n",
       "    </tr>\n",
       "  </tbody>\n",
       "</table>\n",
       "</div>"
      ],
      "text/plain": [
       "   number of rows updated  number of multi-joined rows updated\n",
       "0  212                     0                                  "
      ]
     },
     "execution_count": 21,
     "metadata": {},
     "output_type": "execute_result"
    }
   ],
   "source": [
    "# Rellenar vacíos\n",
    "# Ejecutar\n",
    "snow_func.snowflake_sql(conn, \"\"\"\n",
    "UPDATE DOCUMENTOS_COLOMBIA.GEOGRAFIA.ST_PAISES\n",
    "SET PAIS_INVERSION_BANREP = 'PAÍS NO INCLUIDO'\n",
    "WHERE PAIS_INVERSION_BANREP IS NULL;\n",
    "\"\"\")"
   ]
  },
  {
   "cell_type": "code",
   "execution_count": 22,
   "metadata": {},
   "outputs": [
    {
     "data": {
      "text/html": [
       "<div>\n",
       "<style scoped>\n",
       "    .dataframe tbody tr th:only-of-type {\n",
       "        vertical-align: middle;\n",
       "    }\n",
       "\n",
       "    .dataframe tbody tr th {\n",
       "        vertical-align: top;\n",
       "    }\n",
       "\n",
       "    .dataframe thead th {\n",
       "        text-align: right;\n",
       "    }\n",
       "</style>\n",
       "<table border=\"1\" class=\"dataframe\">\n",
       "  <thead>\n",
       "    <tr style=\"text-align: right;\">\n",
       "      <th></th>\n",
       "      <th>number of rows updated</th>\n",
       "      <th>number of multi-joined rows updated</th>\n",
       "    </tr>\n",
       "  </thead>\n",
       "  <tbody>\n",
       "    <tr>\n",
       "      <th>0</th>\n",
       "      <td>6</td>\n",
       "      <td>0</td>\n",
       "    </tr>\n",
       "  </tbody>\n",
       "</table>\n",
       "</div>"
      ],
      "text/plain": [
       "   number of rows updated  number of multi-joined rows updated\n",
       "0  6                       0                                  "
      ]
     },
     "execution_count": 22,
     "metadata": {},
     "output_type": "execute_result"
    }
   ],
   "source": [
    "# Rellenar vacíos\n",
    "# Ejecutar\n",
    "snow_func.snowflake_sql(conn, \"\"\"\n",
    "UPDATE DOCUMENTOS_COLOMBIA.GEOGRAFIA.ST_PAISES\n",
    "SET CODIGO_PAIS_MIGRACION = 'PAÍS NO INCLUIDO'\n",
    "WHERE CODIGO_PAIS_MIGRACION IS NULL;\n",
    "\"\"\")"
   ]
  },
  {
   "cell_type": "code",
   "execution_count": 23,
   "metadata": {},
   "outputs": [
    {
     "data": {
      "text/html": [
       "<div>\n",
       "<style scoped>\n",
       "    .dataframe tbody tr th:only-of-type {\n",
       "        vertical-align: middle;\n",
       "    }\n",
       "\n",
       "    .dataframe tbody tr th {\n",
       "        vertical-align: top;\n",
       "    }\n",
       "\n",
       "    .dataframe thead th {\n",
       "        text-align: right;\n",
       "    }\n",
       "</style>\n",
       "<table border=\"1\" class=\"dataframe\">\n",
       "  <thead>\n",
       "    <tr style=\"text-align: right;\">\n",
       "      <th></th>\n",
       "      <th>number of rows updated</th>\n",
       "      <th>number of multi-joined rows updated</th>\n",
       "    </tr>\n",
       "  </thead>\n",
       "  <tbody>\n",
       "    <tr>\n",
       "      <th>0</th>\n",
       "      <td>6</td>\n",
       "      <td>0</td>\n",
       "    </tr>\n",
       "  </tbody>\n",
       "</table>\n",
       "</div>"
      ],
      "text/plain": [
       "   number of rows updated  number of multi-joined rows updated\n",
       "0  6                       0                                  "
      ]
     },
     "execution_count": 23,
     "metadata": {},
     "output_type": "execute_result"
    }
   ],
   "source": [
    "# Rellenar vacíos\n",
    "# Ejecutar\n",
    "snow_func.snowflake_sql(conn, \"\"\"\n",
    "UPDATE DOCUMENTOS_COLOMBIA.GEOGRAFIA.ST_PAISES\n",
    "SET NOMBRE_PAIS_MIGRACION = 'PAÍS NO INCLUIDO'\n",
    "WHERE NOMBRE_PAIS_MIGRACION IS NULL;\n",
    "\"\"\")"
   ]
  },
  {
   "cell_type": "code",
   "execution_count": 24,
   "metadata": {},
   "outputs": [
    {
     "data": {
      "text/html": [
       "<div>\n",
       "<style scoped>\n",
       "    .dataframe tbody tr th:only-of-type {\n",
       "        vertical-align: middle;\n",
       "    }\n",
       "\n",
       "    .dataframe tbody tr th {\n",
       "        vertical-align: top;\n",
       "    }\n",
       "\n",
       "    .dataframe thead th {\n",
       "        text-align: right;\n",
       "    }\n",
       "</style>\n",
       "<table border=\"1\" class=\"dataframe\">\n",
       "  <thead>\n",
       "    <tr style=\"text-align: right;\">\n",
       "      <th></th>\n",
       "      <th>number of rows updated</th>\n",
       "      <th>number of multi-joined rows updated</th>\n",
       "    </tr>\n",
       "  </thead>\n",
       "  <tbody>\n",
       "    <tr>\n",
       "      <th>0</th>\n",
       "      <td>0</td>\n",
       "      <td>0</td>\n",
       "    </tr>\n",
       "  </tbody>\n",
       "</table>\n",
       "</div>"
      ],
      "text/plain": [
       "   number of rows updated  number of multi-joined rows updated\n",
       "0  0                       0                                  "
      ]
     },
     "execution_count": 24,
     "metadata": {},
     "output_type": "execute_result"
    }
   ],
   "source": [
    "# Rellenar vacíos\n",
    "# Ejecutar\n",
    "snow_func.snowflake_sql(conn, \"\"\"\n",
    "UPDATE DOCUMENTOS_COLOMBIA.GEOGRAFIA.ST_PAISES\n",
    "SET COUNTRY_OR_AREA = 'PAÍS NO INCLUIDO'\n",
    "WHERE COUNTRY_OR_AREA IS NULL;\n",
    "\"\"\")"
   ]
  },
  {
   "cell_type": "code",
   "execution_count": 25,
   "metadata": {},
   "outputs": [
    {
     "data": {
      "text/html": [
       "<div>\n",
       "<style scoped>\n",
       "    .dataframe tbody tr th:only-of-type {\n",
       "        vertical-align: middle;\n",
       "    }\n",
       "\n",
       "    .dataframe tbody tr th {\n",
       "        vertical-align: top;\n",
       "    }\n",
       "\n",
       "    .dataframe thead th {\n",
       "        text-align: right;\n",
       "    }\n",
       "</style>\n",
       "<table border=\"1\" class=\"dataframe\">\n",
       "  <thead>\n",
       "    <tr style=\"text-align: right;\">\n",
       "      <th></th>\n",
       "      <th>COUNT (*)</th>\n",
       "    </tr>\n",
       "  </thead>\n",
       "  <tbody>\n",
       "    <tr>\n",
       "      <th>0</th>\n",
       "      <td>327</td>\n",
       "    </tr>\n",
       "  </tbody>\n",
       "</table>\n",
       "</div>"
      ],
      "text/plain": [
       "   COUNT (*)\n",
       "0  327      "
      ]
     },
     "execution_count": 25,
     "metadata": {},
     "output_type": "execute_result"
    }
   ],
   "source": [
    "# Verificar que se creó correctamente:\n",
    "# Ejecutar\n",
    "snow_func.snowflake_sql(conn, \"SELECT COUNT (*) FROM ST_PAISES;\")"
   ]
  },
  {
   "cell_type": "markdown",
   "metadata": {},
   "source": [
    "### Cerrar sesión, conexión y cursor"
   ]
  },
  {
   "cell_type": "code",
   "execution_count": 26,
   "metadata": {},
   "outputs": [],
   "source": [
    "conn.close()\n",
    "session.close()"
   ]
  }
 ],
 "metadata": {
  "kernelspec": {
   "display_name": ".venv",
   "language": "python",
   "name": "python3"
  },
  "language_info": {
   "codemirror_mode": {
    "name": "ipython",
    "version": 3
   },
   "file_extension": ".py",
   "mimetype": "text/x-python",
   "name": "python",
   "nbconvert_exporter": "python",
   "pygments_lexer": "ipython3",
   "version": "3.11.0"
  }
 },
 "nbformat": 4,
 "nbformat_minor": 2
}
