{
 "cells": [
  {
   "cell_type": "markdown",
   "metadata": {},
   "source": [
    "# ETL:  Parámetros"
   ]
  },
  {
   "cell_type": "markdown",
   "metadata": {},
   "source": [
    "## Librerias"
   ]
  },
  {
   "cell_type": "code",
   "execution_count": 1,
   "metadata": {},
   "outputs": [],
   "source": [
    "# Generales\n",
    "import pandas as pd\n",
    "import numpy as np\n",
    "import time\n",
    "import re\n",
    "import warnings\n",
    "warnings.filterwarnings('ignore')\n",
    "\n",
    "# Funciones Snowflake\n",
    "import funciones as snow_func"
   ]
  },
  {
   "cell_type": "code",
   "execution_count": 2,
   "metadata": {},
   "outputs": [],
   "source": [
    "# Aumentar número de columnas que se pueden ver\n",
    "pd.options.display.max_columns = None\n",
    "# En los dataframes, mostrar los float con dos decimales\n",
    "pd.options.display.float_format = '{:,.10f}'.format\n",
    "# Cada columna será tan grande como sea necesario para mostrar todo su contenido\n",
    "pd.set_option('display.max_colwidth', 0)"
   ]
  },
  {
   "cell_type": "markdown",
   "metadata": {},
   "source": [
    "### Snowflake"
   ]
  },
  {
   "cell_type": "code",
   "execution_count": 3,
   "metadata": {},
   "outputs": [],
   "source": [
    "# Librerias necesarias para subir a Snowflake\n",
    "import os\n",
    "import json\n",
    "import snowflake.connector # [pip install snowflake-connector-python]\n",
    "from snowflake.connector.pandas_tools import write_pandas # [pip install \"snowflake-connector-python[pandas]\"]\n",
    "from snowflake.snowpark import Session"
   ]
  },
  {
   "cell_type": "code",
   "execution_count": 4,
   "metadata": {},
   "outputs": [
    {
     "name": "stdout",
     "output_type": "stream",
     "text": [
      "Sesión actual: {<snowflake.snowpark.session.Session object at 0x00000277E46A6AD0>}\n"
     ]
    }
   ],
   "source": [
    "# Paso 1: Definir la ruta al archivo JSON en el escritorio\n",
    "desktop_path = os.path.join(os.path.expanduser(\"~\"), \"Desktop\\Conn\")\n",
    "json_file_path = os.path.join(desktop_path, \"snowflake_credentials.json\")\n",
    "\n",
    "# Paso 2: Leer las credenciales desde el archivo JSON\n",
    "with open(json_file_path, 'r') as file:\n",
    "    credentials = json.load(file)\n",
    "\n",
    "# Paso 3: Definir los parámetros de conexión usando las credenciales\n",
    "connection_parameters = {\n",
    "        \"account\": credentials[\"ACCOUNT_SNOWFLAKE\"],\n",
    "        \"user\": credentials[\"USER_SNOWFLAKE\"],\n",
    "        \"password\": credentials[\"PASSWORD_SNOWFLAKE\"],\n",
    "        \"role\": credentials[\"ROLE_SNOWFLAKE\"],\n",
    "        \"warehouse\": credentials[\"WAREHOUSE\"]\n",
    "    }\n",
    "\n",
    "# Paso 5: Crear un objeto de conexión utilizando snowflake.connector\n",
    "session = Session.builder.configs(connection_parameters).create()\n",
    "print(\"Sesión actual:\", {session})"
   ]
  },
  {
   "cell_type": "code",
   "execution_count": 5,
   "metadata": {},
   "outputs": [],
   "source": [
    "# Crear objeto de conexión\n",
    "conn = session.connection"
   ]
  },
  {
   "cell_type": "markdown",
   "metadata": {},
   "source": [
    "## 1. Parámetros"
   ]
  },
  {
   "cell_type": "code",
   "execution_count": 6,
   "metadata": {},
   "outputs": [],
   "source": [
    "# Solo se debe cambiar la ubicación del archivo\n",
    "path_parametros = \"C:/Users/nrivera/OneDrive - PROCOLOMBIA/Documentos/017B-Documentos-Colombia/Cargue/Insumos/PARAMETROS/\"\n",
    "parametros_file = 'Param.xlsx'"
   ]
  },
  {
   "cell_type": "code",
   "execution_count": 7,
   "metadata": {},
   "outputs": [
    {
     "data": {
      "text/html": [
       "<div>\n",
       "<style scoped>\n",
       "    .dataframe tbody tr th:only-of-type {\n",
       "        vertical-align: middle;\n",
       "    }\n",
       "\n",
       "    .dataframe tbody tr th {\n",
       "        vertical-align: top;\n",
       "    }\n",
       "\n",
       "    .dataframe thead th {\n",
       "        text-align: right;\n",
       "    }\n",
       "</style>\n",
       "<table border=\"1\" class=\"dataframe\">\n",
       "  <thead>\n",
       "    <tr style=\"text-align: right;\">\n",
       "      <th></th>\n",
       "      <th>Parametro</th>\n",
       "      <th>Valor</th>\n",
       "      <th>Eje</th>\n",
       "    </tr>\n",
       "  </thead>\n",
       "  <tbody>\n",
       "    <tr>\n",
       "      <th>0</th>\n",
       "      <td>Fecha de actualización</td>\n",
       "      <td>12/12/2024</td>\n",
       "      <td>Transversal</td>\n",
       "    </tr>\n",
       "    <tr>\n",
       "      <th>1</th>\n",
       "      <td>Año cerrado (T-1)</td>\n",
       "      <td>2022</td>\n",
       "      <td>Exportaciones</td>\n",
       "    </tr>\n",
       "    <tr>\n",
       "      <th>2</th>\n",
       "      <td>Año cerrado (T)</td>\n",
       "      <td>2023</td>\n",
       "      <td>Exportaciones</td>\n",
       "    </tr>\n",
       "    <tr>\n",
       "      <th>3</th>\n",
       "      <td>Año corrido (T-1)</td>\n",
       "      <td>2023(Ene-Oct)</td>\n",
       "      <td>Exportaciones</td>\n",
       "    </tr>\n",
       "    <tr>\n",
       "      <th>4</th>\n",
       "      <td>Año corrido (T)</td>\n",
       "      <td>2024(Ene-Oct)</td>\n",
       "      <td>Exportaciones</td>\n",
       "    </tr>\n",
       "    <tr>\n",
       "      <th>5</th>\n",
       "      <td>Año corrido texto (T-1)</td>\n",
       "      <td>Ene-Oct 2023</td>\n",
       "      <td>Exportaciones</td>\n",
       "    </tr>\n",
       "    <tr>\n",
       "      <th>6</th>\n",
       "      <td>Año corrido texto (T)</td>\n",
       "      <td>Ene-Oct 2024</td>\n",
       "      <td>Exportaciones</td>\n",
       "    </tr>\n",
       "    <tr>\n",
       "      <th>7</th>\n",
       "      <td>Mes corrido texto (T)</td>\n",
       "      <td>Octubre</td>\n",
       "      <td>Exportaciones</td>\n",
       "    </tr>\n",
       "    <tr>\n",
       "      <th>8</th>\n",
       "      <td>Año cerrado (T-1)</td>\n",
       "      <td>2022</td>\n",
       "      <td>Inversión</td>\n",
       "    </tr>\n",
       "    <tr>\n",
       "      <th>9</th>\n",
       "      <td>Año cerrado (T)</td>\n",
       "      <td>2023</td>\n",
       "      <td>Inversión</td>\n",
       "    </tr>\n",
       "    <tr>\n",
       "      <th>10</th>\n",
       "      <td>Año corrido (T-1)</td>\n",
       "      <td>2023-2</td>\n",
       "      <td>Inversión</td>\n",
       "    </tr>\n",
       "    <tr>\n",
       "      <th>11</th>\n",
       "      <td>Año corrido (T)</td>\n",
       "      <td>2024-2</td>\n",
       "      <td>Inversión</td>\n",
       "    </tr>\n",
       "    <tr>\n",
       "      <th>12</th>\n",
       "      <td>Texto corrido</td>\n",
       "      <td>Nota: Cifras de año corrido acumuladas al segundo trimestre de 2023 y 2024.</td>\n",
       "      <td>Inversión</td>\n",
       "    </tr>\n",
       "    <tr>\n",
       "      <th>13</th>\n",
       "      <td>Año cerrado (T-1)</td>\n",
       "      <td>2022</td>\n",
       "      <td>Turismo</td>\n",
       "    </tr>\n",
       "    <tr>\n",
       "      <th>14</th>\n",
       "      <td>Año cerrado (T)</td>\n",
       "      <td>2023</td>\n",
       "      <td>Turismo</td>\n",
       "    </tr>\n",
       "    <tr>\n",
       "      <th>15</th>\n",
       "      <td>Año corrido (T-1)</td>\n",
       "      <td>2023</td>\n",
       "      <td>Turismo</td>\n",
       "    </tr>\n",
       "    <tr>\n",
       "      <th>16</th>\n",
       "      <td>Año corrido (T)</td>\n",
       "      <td>2024</td>\n",
       "      <td>Turismo</td>\n",
       "    </tr>\n",
       "    <tr>\n",
       "      <th>17</th>\n",
       "      <td>Mes corrido</td>\n",
       "      <td>10</td>\n",
       "      <td>Turismo</td>\n",
       "    </tr>\n",
       "    <tr>\n",
       "      <th>18</th>\n",
       "      <td>Corte de información exportaciones</td>\n",
       "      <td>octubre 2024</td>\n",
       "      <td>Transversal</td>\n",
       "    </tr>\n",
       "    <tr>\n",
       "      <th>19</th>\n",
       "      <td>Corte de información inversión</td>\n",
       "      <td>junio 2024</td>\n",
       "      <td>Transversal</td>\n",
       "    </tr>\n",
       "    <tr>\n",
       "      <th>20</th>\n",
       "      <td>Corte de información turismo</td>\n",
       "      <td>octubre 2024</td>\n",
       "      <td>Transversal</td>\n",
       "    </tr>\n",
       "  </tbody>\n",
       "</table>\n",
       "</div>"
      ],
      "text/plain": [
       "                             Parametro  \\\n",
       "0   Fecha de actualización               \n",
       "1   Año cerrado (T-1)                    \n",
       "2   Año cerrado (T)                      \n",
       "3   Año corrido (T-1)                    \n",
       "4   Año corrido (T)                      \n",
       "5   Año corrido texto (T-1)              \n",
       "6   Año corrido texto (T)                \n",
       "7   Mes corrido texto (T)                \n",
       "8   Año cerrado (T-1)                    \n",
       "9   Año cerrado (T)                      \n",
       "10  Año corrido (T-1)                    \n",
       "11  Año corrido (T)                      \n",
       "12  Texto corrido                        \n",
       "13  Año cerrado (T-1)                    \n",
       "14  Año cerrado (T)                      \n",
       "15  Año corrido (T-1)                    \n",
       "16  Año corrido (T)                      \n",
       "17  Mes corrido                          \n",
       "18  Corte de información exportaciones   \n",
       "19  Corte de información inversión       \n",
       "20  Corte de información turismo         \n",
       "\n",
       "                                                                          Valor  \\\n",
       "0   12/12/2024                                                                    \n",
       "1   2022                                                                          \n",
       "2   2023                                                                          \n",
       "3   2023(Ene-Oct)                                                                 \n",
       "4   2024(Ene-Oct)                                                                 \n",
       "5   Ene-Oct 2023                                                                  \n",
       "6   Ene-Oct 2024                                                                  \n",
       "7   Octubre                                                                       \n",
       "8   2022                                                                          \n",
       "9   2023                                                                          \n",
       "10  2023-2                                                                        \n",
       "11  2024-2                                                                        \n",
       "12  Nota: Cifras de año corrido acumuladas al segundo trimestre de 2023 y 2024.   \n",
       "13  2022                                                                          \n",
       "14  2023                                                                          \n",
       "15  2023                                                                          \n",
       "16  2024                                                                          \n",
       "17  10                                                                            \n",
       "18  octubre 2024                                                                  \n",
       "19  junio 2024                                                                    \n",
       "20  octubre 2024                                                                  \n",
       "\n",
       "              Eje  \n",
       "0   Transversal    \n",
       "1   Exportaciones  \n",
       "2   Exportaciones  \n",
       "3   Exportaciones  \n",
       "4   Exportaciones  \n",
       "5   Exportaciones  \n",
       "6   Exportaciones  \n",
       "7   Exportaciones  \n",
       "8   Inversión      \n",
       "9   Inversión      \n",
       "10  Inversión      \n",
       "11  Inversión      \n",
       "12  Inversión      \n",
       "13  Turismo        \n",
       "14  Turismo        \n",
       "15  Turismo        \n",
       "16  Turismo        \n",
       "17  Turismo        \n",
       "18  Transversal    \n",
       "19  Transversal    \n",
       "20  Transversal    "
      ]
     },
     "execution_count": 7,
     "metadata": {},
     "output_type": "execute_result"
    }
   ],
   "source": [
    "# Leer parámetros\n",
    "df_param = pd.read_excel(path_parametros + parametros_file, sheet_name='Hoja1', dtype=str)\n",
    "df_param"
   ]
  },
  {
   "cell_type": "markdown",
   "metadata": {},
   "source": [
    "## 2. Subir a Snowflake"
   ]
  },
  {
   "cell_type": "markdown",
   "metadata": {},
   "source": [
    "##### Usar base de datos y esquema para análisis"
   ]
  },
  {
   "cell_type": "code",
   "execution_count": 8,
   "metadata": {},
   "outputs": [
    {
     "data": {
      "text/html": [
       "<div>\n",
       "<style scoped>\n",
       "    .dataframe tbody tr th:only-of-type {\n",
       "        vertical-align: middle;\n",
       "    }\n",
       "\n",
       "    .dataframe tbody tr th {\n",
       "        vertical-align: top;\n",
       "    }\n",
       "\n",
       "    .dataframe thead th {\n",
       "        text-align: right;\n",
       "    }\n",
       "</style>\n",
       "<table border=\"1\" class=\"dataframe\">\n",
       "  <thead>\n",
       "    <tr style=\"text-align: right;\">\n",
       "      <th></th>\n",
       "      <th>status</th>\n",
       "    </tr>\n",
       "  </thead>\n",
       "  <tbody>\n",
       "    <tr>\n",
       "      <th>0</th>\n",
       "      <td>Statement executed successfully.</td>\n",
       "    </tr>\n",
       "  </tbody>\n",
       "</table>\n",
       "</div>"
      ],
      "text/plain": [
       "                             status\n",
       "0  Statement executed successfully."
      ]
     },
     "execution_count": 8,
     "metadata": {},
     "output_type": "execute_result"
    }
   ],
   "source": [
    "# Usar base de datos:\n",
    "sql_database = \"\"\"\n",
    "USE DATABASE DOCUMENTOS_COLOMBIA;\n",
    "\"\"\"\n",
    "# Ejecutar\n",
    "snow_func.snowflake_sql(conn, sql_database)"
   ]
  },
  {
   "cell_type": "code",
   "execution_count": 9,
   "metadata": {},
   "outputs": [
    {
     "data": {
      "text/html": [
       "<div>\n",
       "<style scoped>\n",
       "    .dataframe tbody tr th:only-of-type {\n",
       "        vertical-align: middle;\n",
       "    }\n",
       "\n",
       "    .dataframe tbody tr th {\n",
       "        vertical-align: top;\n",
       "    }\n",
       "\n",
       "    .dataframe thead th {\n",
       "        text-align: right;\n",
       "    }\n",
       "</style>\n",
       "<table border=\"1\" class=\"dataframe\">\n",
       "  <thead>\n",
       "    <tr style=\"text-align: right;\">\n",
       "      <th></th>\n",
       "      <th>status</th>\n",
       "    </tr>\n",
       "  </thead>\n",
       "  <tbody>\n",
       "    <tr>\n",
       "      <th>0</th>\n",
       "      <td>Statement executed successfully.</td>\n",
       "    </tr>\n",
       "  </tbody>\n",
       "</table>\n",
       "</div>"
      ],
      "text/plain": [
       "                             status\n",
       "0  Statement executed successfully."
      ]
     },
     "execution_count": 9,
     "metadata": {},
     "output_type": "execute_result"
    }
   ],
   "source": [
    "# Usar esquema PARAMETROS:\n",
    "sql_schema_param = \"\"\"\n",
    "USE SCHEMA PARAMETROS;\n",
    "\"\"\"\n",
    "# Ejecutar\n",
    "snow_func.snowflake_sql(conn, sql_schema_param)"
   ]
  },
  {
   "cell_type": "code",
   "execution_count": 10,
   "metadata": {},
   "outputs": [
    {
     "data": {
      "text/html": [
       "<div>\n",
       "<style scoped>\n",
       "    .dataframe tbody tr th:only-of-type {\n",
       "        vertical-align: middle;\n",
       "    }\n",
       "\n",
       "    .dataframe tbody tr th {\n",
       "        vertical-align: top;\n",
       "    }\n",
       "\n",
       "    .dataframe thead th {\n",
       "        text-align: right;\n",
       "    }\n",
       "</style>\n",
       "<table border=\"1\" class=\"dataframe\">\n",
       "  <thead>\n",
       "    <tr style=\"text-align: right;\">\n",
       "      <th></th>\n",
       "      <th>WAREHOUSE</th>\n",
       "      <th>DATABASE</th>\n",
       "      <th>SCHEMA</th>\n",
       "    </tr>\n",
       "  </thead>\n",
       "  <tbody>\n",
       "    <tr>\n",
       "      <th>0</th>\n",
       "      <td>WH_PROCOLOMBIA_ANALITICA</td>\n",
       "      <td>DOCUMENTOS_COLOMBIA</td>\n",
       "      <td>PARAMETROS</td>\n",
       "    </tr>\n",
       "  </tbody>\n",
       "</table>\n",
       "</div>"
      ],
      "text/plain": [
       "                  WAREHOUSE             DATABASE      SCHEMA\n",
       "0  WH_PROCOLOMBIA_ANALITICA  DOCUMENTOS_COLOMBIA  PARAMETROS"
      ]
     },
     "execution_count": 10,
     "metadata": {},
     "output_type": "execute_result"
    }
   ],
   "source": [
    "# Asegurar que estamos en la ubicación que se desea para subir las bases de datos\n",
    "ubicacion = \"SELECT CURRENT_WAREHOUSE() AS WAREHOUSE, CURRENT_DATABASE() AS DATABASE, CURRENT_SCHEMA() AS SCHEMA;\"\n",
    "# Ejecutar\n",
    "snow_func.snowflake_sql(conn, ubicacion)"
   ]
  },
  {
   "cell_type": "markdown",
   "metadata": {},
   "source": [
    "##### SUBIR PARÁMETROS"
   ]
  },
  {
   "cell_type": "code",
   "execution_count": 11,
   "metadata": {},
   "outputs": [
    {
     "data": {
      "text/plain": [
       "'DataFrame cargado exitosamente en la tabla: 21 filas en 1 chunks.\\nTiempo de carga: 4.13 segundos.\\nProceso terminado'"
      ]
     },
     "execution_count": 11,
     "metadata": {},
     "output_type": "execute_result"
    }
   ],
   "source": [
    "# Subir df_param\n",
    "# Ejecutar\n",
    "snow_func.snowflake_cargar_df(conn, df_param, 'PARAMETROS')"
   ]
  },
  {
   "cell_type": "code",
   "execution_count": 12,
   "metadata": {},
   "outputs": [
    {
     "data": {
      "text/html": [
       "<div>\n",
       "<style scoped>\n",
       "    .dataframe tbody tr th:only-of-type {\n",
       "        vertical-align: middle;\n",
       "    }\n",
       "\n",
       "    .dataframe tbody tr th {\n",
       "        vertical-align: top;\n",
       "    }\n",
       "\n",
       "    .dataframe thead th {\n",
       "        text-align: right;\n",
       "    }\n",
       "</style>\n",
       "<table border=\"1\" class=\"dataframe\">\n",
       "  <thead>\n",
       "    <tr style=\"text-align: right;\">\n",
       "      <th></th>\n",
       "      <th>COUNT (*)</th>\n",
       "    </tr>\n",
       "  </thead>\n",
       "  <tbody>\n",
       "    <tr>\n",
       "      <th>0</th>\n",
       "      <td>21</td>\n",
       "    </tr>\n",
       "  </tbody>\n",
       "</table>\n",
       "</div>"
      ],
      "text/plain": [
       "   COUNT (*)\n",
       "0  21       "
      ]
     },
     "execution_count": 12,
     "metadata": {},
     "output_type": "execute_result"
    }
   ],
   "source": [
    "# Verificar que se cargó correctamente:\n",
    "snow_func.snowflake_sql(conn, \"SELECT COUNT (*) FROM PARAMETROS;\")"
   ]
  },
  {
   "cell_type": "code",
   "execution_count": 13,
   "metadata": {},
   "outputs": [
    {
     "data": {
      "text/plain": [
       "(21, 3)"
      ]
     },
     "execution_count": 13,
     "metadata": {},
     "output_type": "execute_result"
    }
   ],
   "source": [
    "# Mismas filas\n",
    "df_param.shape"
   ]
  },
  {
   "cell_type": "markdown",
   "metadata": {},
   "source": [
    "## 3. Cerrar sesión, conexión y cursor"
   ]
  },
  {
   "cell_type": "code",
   "execution_count": 14,
   "metadata": {},
   "outputs": [],
   "source": [
    "conn.close()\n",
    "session.close()"
   ]
  }
 ],
 "metadata": {
  "kernelspec": {
   "display_name": ".venv",
   "language": "python",
   "name": "python3"
  },
  "language_info": {
   "codemirror_mode": {
    "name": "ipython",
    "version": 3
   },
   "file_extension": ".py",
   "mimetype": "text/x-python",
   "name": "python",
   "nbconvert_exporter": "python",
   "pygments_lexer": "ipython3",
   "version": "3.11.0"
  }
 },
 "nbformat": 4,
 "nbformat_minor": 2
}
