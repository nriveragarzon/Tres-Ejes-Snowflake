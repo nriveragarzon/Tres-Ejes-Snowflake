{
 "cells": [
  {
   "cell_type": "markdown",
   "metadata": {},
   "source": [
    "# ETL: Turismo"
   ]
  },
  {
   "cell_type": "markdown",
   "metadata": {},
   "source": [
    "## Librerias"
   ]
  },
  {
   "cell_type": "code",
   "execution_count": 1,
   "metadata": {},
   "outputs": [],
   "source": [
    "# Generales\n",
    "import pandas as pd\n",
    "import numpy as np\n",
    "import time\n",
    "import re\n",
    "import warnings\n",
    "warnings.filterwarnings('ignore')\n",
    "\n",
    "# Funciones Snowflake\n",
    "import funciones as snow_func"
   ]
  },
  {
   "cell_type": "code",
   "execution_count": 2,
   "metadata": {},
   "outputs": [],
   "source": [
    "# Aumentar número de columnas que se pueden ver\n",
    "pd.options.display.max_columns = None\n",
    "# En los dataframes, mostrar los float con dos decimales\n",
    "pd.options.display.float_format = '{:,.10f}'.format\n",
    "# Cada columna será tan grande como sea necesario para mostrar todo su contenido\n",
    "pd.set_option('display.max_colwidth', 0)"
   ]
  },
  {
   "cell_type": "markdown",
   "metadata": {},
   "source": [
    "### Snowflake"
   ]
  },
  {
   "cell_type": "code",
   "execution_count": 3,
   "metadata": {},
   "outputs": [],
   "source": [
    "# Librerias necesarias para subir a Snowflake\n",
    "import os\n",
    "import json\n",
    "import snowflake.connector # [pip install snowflake-connector-python]\n",
    "from snowflake.connector.pandas_tools import write_pandas # [pip install \"snowflake-connector-python[pandas]\"]\n",
    "from snowflake.snowpark import Session"
   ]
  },
  {
   "cell_type": "code",
   "execution_count": 4,
   "metadata": {},
   "outputs": [
    {
     "name": "stdout",
     "output_type": "stream",
     "text": [
      "Sesión actual: {<snowflake.snowpark.session.Session object at 0x000001C9A8D0B410>}\n"
     ]
    }
   ],
   "source": [
    "# Paso 1: Definir la ruta al archivo JSON en el escritorio\n",
    "desktop_path = os.path.join(os.path.expanduser(\"~\"), \"Desktop\\Conn\")\n",
    "json_file_path = os.path.join(desktop_path, \"snowflake_credentials.json\")\n",
    "\n",
    "# Paso 2: Leer las credenciales desde el archivo JSON\n",
    "with open(json_file_path, 'r') as file:\n",
    "    credentials = json.load(file)\n",
    "\n",
    "# Paso 3: Definir los parámetros de conexión usando las credenciales\n",
    "connection_parameters = {\n",
    "        \"account\": credentials[\"ACCOUNT_SNOWFLAKE\"],\n",
    "        \"user\": credentials[\"USER_SNOWFLAKE\"],\n",
    "        \"password\": credentials[\"PASSWORD_SNOWFLAKE\"],\n",
    "        \"role\": credentials[\"ROLE_SNOWFLAKE\"],\n",
    "        \"warehouse\": credentials[\"WAREHOUSE\"]\n",
    "    }\n",
    "\n",
    "# Paso 5: Crear un objeto de conexión utilizando snowflake.connector\n",
    "session = Session.builder.configs(connection_parameters).create()\n",
    "print(\"Sesión actual:\", {session})"
   ]
  },
  {
   "cell_type": "code",
   "execution_count": 5,
   "metadata": {},
   "outputs": [],
   "source": [
    "# Crear objeto de conexión\n",
    "conn = session.connection"
   ]
  },
  {
   "cell_type": "markdown",
   "metadata": {},
   "source": [
    "## 0. Totales de control"
   ]
  },
  {
   "cell_type": "code",
   "execution_count": 6,
   "metadata": {},
   "outputs": [],
   "source": [
    "# Solo se debe cambiar la ubicación del archivo\n",
    "path_turismo = \"C:/Users/nrivera/OneDrive - PROCOLOMBIA/Documentos/017B-Documentos-Colombia/Cargue/Insumos/TURISMO/\"\n",
    "turismo_totales_cerrado = 'TOTALES-CERRADO_data.csv'\n",
    "turismo_totales_corrido = 'TOTALES-CORRIDO_data.csv'"
   ]
  },
  {
   "cell_type": "code",
   "execution_count": 7,
   "metadata": {},
   "outputs": [
    {
     "data": {
      "text/html": [
       "<div>\n",
       "<style scoped>\n",
       "    .dataframe tbody tr th:only-of-type {\n",
       "        vertical-align: middle;\n",
       "    }\n",
       "\n",
       "    .dataframe tbody tr th {\n",
       "        vertical-align: top;\n",
       "    }\n",
       "\n",
       "    .dataframe thead th {\n",
       "        text-align: right;\n",
       "    }\n",
       "</style>\n",
       "<table border=\"1\" class=\"dataframe\">\n",
       "  <thead>\n",
       "    <tr style=\"text-align: right;\">\n",
       "      <th></th>\n",
       "      <th>T_YEAR</th>\n",
       "      <th>T_1_YEAR</th>\n",
       "    </tr>\n",
       "  </thead>\n",
       "  <tbody>\n",
       "    <tr>\n",
       "      <th>0</th>\n",
       "      <td>4076203</td>\n",
       "      <td>3279931</td>\n",
       "    </tr>\n",
       "  </tbody>\n",
       "</table>\n",
       "</div>"
      ],
      "text/plain": [
       "    T_YEAR  T_1_YEAR\n",
       "0  4076203  3279931 "
      ]
     },
     "execution_count": 7,
     "metadata": {},
     "output_type": "execute_result"
    }
   ],
   "source": [
    "# Control cerrado\n",
    "df_control_cerrado = pd.read_csv(path_turismo + turismo_totales_cerrado, sep=\";\", decimal=\",\")\n",
    "\n",
    "# Elegir años de interés\n",
    "df_control_cerrado = df_control_cerrado[\n",
    "    (df_control_cerrado['Nombres de medidas'] == 2022) | (df_control_cerrado['Nombres de medidas'] == 2023)\n",
    "]\n",
    "\n",
    "# Crear el dataframe de control\n",
    "df_control_cerrado = pd.DataFrame(\n",
    "    [df_control_cerrado[\"Valores de medidas\"].values], \n",
    "    columns=df_control_cerrado[\"Nombres de medidas\"].astype(str).values  # Convertir a cadenas\n",
    ")\n",
    "\n",
    "# Renombrar columnas\n",
    "df_control_cerrado = df_control_cerrado.rename(columns={'2022': 'T_1_YEAR', '2023': 'T_YEAR'})\n",
    "\n",
    "# Df de control\n",
    "df_control_cerrado"
   ]
  },
  {
   "cell_type": "code",
   "execution_count": 8,
   "metadata": {},
   "outputs": [
    {
     "data": {
      "text/html": [
       "<div>\n",
       "<style scoped>\n",
       "    .dataframe tbody tr th:only-of-type {\n",
       "        vertical-align: middle;\n",
       "    }\n",
       "\n",
       "    .dataframe tbody tr th {\n",
       "        vertical-align: top;\n",
       "    }\n",
       "\n",
       "    .dataframe thead th {\n",
       "        text-align: right;\n",
       "    }\n",
       "</style>\n",
       "<table border=\"1\" class=\"dataframe\">\n",
       "  <thead>\n",
       "    <tr style=\"text-align: right;\">\n",
       "      <th></th>\n",
       "      <th>T_1_YEAR</th>\n",
       "      <th>T_YEAR</th>\n",
       "    </tr>\n",
       "  </thead>\n",
       "  <tbody>\n",
       "    <tr>\n",
       "      <th>0</th>\n",
       "      <td>3323601</td>\n",
       "      <td>3663252</td>\n",
       "    </tr>\n",
       "  </tbody>\n",
       "</table>\n",
       "</div>"
      ],
      "text/plain": [
       "   T_1_YEAR   T_YEAR\n",
       "0  3323601   3663252"
      ]
     },
     "execution_count": 8,
     "metadata": {},
     "output_type": "execute_result"
    }
   ],
   "source": [
    "# Control corrido\n",
    "df_control_corrido = pd.read_csv(path_turismo + turismo_totales_corrido, sep=\";\", decimal=\",\")\n",
    "\n",
    "# Crear el dataframe de control\n",
    "df_control_corrido = pd.DataFrame(\n",
    "    [df_control_corrido[\"Valores de medidas\"].values], \n",
    "    columns=df_control_corrido[\"Nombres de medidas\"].astype(str).values  # Convertir a cadenas\n",
    ")\n",
    "\n",
    "# Renombrar columnas\n",
    "df_control_corrido = df_control_corrido.rename(columns={'YTD actual' : 'T_YEAR', 'YTD anterior' : 'T_1_YEAR'})\n",
    "\n",
    "# Df de control\n",
    "df_control_corrido"
   ]
  },
  {
   "cell_type": "code",
   "execution_count": 9,
   "metadata": {},
   "outputs": [],
   "source": [
    "# Crear totales por variable de control\n",
    "\n",
    "# Cerrado\n",
    "control_cerrado_t_1 = df_control_cerrado['T_1_YEAR'].sum()\n",
    "control_cerrado_t = df_control_cerrado['T_YEAR'].sum()\n",
    "\n",
    "# Corrido\n",
    "control_corrido_t_1 = df_control_corrido['T_1_YEAR'].sum()\n",
    "control_corrido_t = df_control_corrido['T_YEAR'].sum()"
   ]
  },
  {
   "cell_type": "markdown",
   "metadata": {},
   "source": [
    "## 0.1 Dataframe de países"
   ]
  },
  {
   "cell_type": "code",
   "execution_count": 10,
   "metadata": {},
   "outputs": [],
   "source": [
    "# Importar el dataframe de ST PAISES\n",
    "df_paises = session.sql(\"SELECT * FROM DOCUMENTOS_COLOMBIA.GEOGRAFIA.ST_PAISES\").to_pandas()\n",
    "\n",
    "# Crear dataframe para comparación}\n",
    "df_paises = df_paises[['CODIGO_PAIS_MIGRACION', 'NOMBRE_PAIS_MIGRACION']].drop_duplicates()"
   ]
  },
  {
   "cell_type": "markdown",
   "metadata": {},
   "source": [
    "## 1. Turismo cerrado"
   ]
  },
  {
   "cell_type": "code",
   "execution_count": 11,
   "metadata": {},
   "outputs": [],
   "source": [
    "# Solo se debe cambiar la ubicación del archivo\n",
    "turismo_cerrado = 'CONSULTA-CERRADO_data.csv'"
   ]
  },
  {
   "cell_type": "code",
   "execution_count": 12,
   "metadata": {},
   "outputs": [],
   "source": [
    "# Importar datos cerrado de turismo\n",
    "df_turismo_cerrado = pd.read_csv(path_turismo + turismo_cerrado, sep=\";\", \n",
    "                                 dtype= {'Región país residencia' : str, \n",
    "                                        'HUB__C (País residencia) (grupo)' : str,\n",
    "                                        'COD_TURISMO (DIM_PAIS) #2' : str,\n",
    "                                        'Análisis extranjeros:' : str, \n",
    "                                        'ID_DPTO' : str,\n",
    "                                        'Departamento' : str, \n",
    "                                        'ID_CIUDAD' : str, \n",
    "                                        'Ciudad' : str, \n",
    "                                        'Género' : str, \n",
    "                                        'Motivo viaje Pc' : str,\n",
    "                                        'Rango Turismo' : str, \n",
    "                                        'Nombres de medidas' : str, \n",
    "                                        'Valores de medidas' : float})\n",
    "\n",
    "# Crear df para comparar países en un paso posterior\n",
    "df_turismo_cerrado_paises = df_turismo_cerrado[['COD_TURISMO (DIM_PAIS) #2', 'Análisis extranjeros:']].drop_duplicates()\n",
    "                                        \n",
    "# Determinar las columnas \"id\" (todas excepto 'Nombres de medidas' y 'Valores de medidas')\n",
    "id_columns = [\n",
    "    col for col in df_turismo_cerrado.columns \n",
    "    if col not in ['Nombres de medidas', 'Valores de medidas']\n",
    "]\n",
    "\n",
    "# Pivotar el DataFrame para que 'Nombres de medidas' sea el encabezado y sumar 'Valores de medidas'\n",
    "df_turismo_cerrado = pd.DataFrame(\n",
    "    df_turismo_cerrado\n",
    "    .groupby(id_columns + ['Nombres de medidas'], as_index=False)['Valores de medidas'].sum()\n",
    "    .pivot(index=id_columns, columns='Nombres de medidas', values='Valores de medidas').reset_index()\n",
    ")\n",
    "\n",
    "# Eliminar columnas que no se usan\n",
    "columnas_extras = ['Análisis extranjeros:', 'Departamento', 'Ciudad']\n",
    "df_turismo_cerrado = df_turismo_cerrado.drop(columns=columnas_extras)\n",
    "\n",
    "# Cambiar nombres de columnas\n",
    "df_turismo_cerrado = df_turismo_cerrado.rename(columns={'Región país residencia' : 'CONTINENTE', \n",
    "                                                        'HUB__C (País residencia) (grupo)' : 'HUB', \n",
    "                                                        'COD_TURISMO (DIM_PAIS) #2' : 'PAIS_RESIDENCIA', \n",
    "                                                        'ID_DPTO' : 'DPTO_HOSPEDAJE', \n",
    "                                                        'ID_CIUDAD' : 'CIUDAD_HOSPEDAJE', \n",
    "                                                        'Género' : 'DESCRIPCION_GENERO', \n",
    "                                                        'Motivo viaje Pc' : 'MOVC_NOMBRE',\n",
    "                                                        'Rango Turismo' : 'RANGO_EDAD' ,\n",
    "                                                        '2022   ' : 'SUMA_TURISMO_T_1', \n",
    "                                                        '2023  ' : 'SUMA_TURISMO_T'})\n",
    "\n",
    "# Eliminar datos con ambos casos en cero, en teoría no hay pero sirve para reducir la dimensionalidad\n",
    "df_turismo_cerrado = df_turismo_cerrado[~((df_turismo_cerrado['SUMA_TURISMO_T_1'] == 0) & (df_turismo_cerrado['SUMA_TURISMO_T'] == 0))]\n",
    "\n",
    "# Asegurar que los valores en DPTO_HOSPEDAJE son strings y rellenar con ceros a la izquierda si tienen longitud menor a 2\n",
    "df_turismo_cerrado['DPTO_HOSPEDAJE'] = df_turismo_cerrado['DPTO_HOSPEDAJE'].astype(str).str.zfill(2)\n",
    "\n",
    "# Asegurar que los valores en CIUDAD_HOSPEDAJE son strings y rellenar con ceros a la izquierda si tienen longitud menor a 5\n",
    "df_turismo_cerrado['CIUDAD_HOSPEDAJE'] = df_turismo_cerrado['CIUDAD_HOSPEDAJE'].astype(str).str.zfill(5)"
   ]
  },
  {
   "cell_type": "code",
   "execution_count": 13,
   "metadata": {},
   "outputs": [
    {
     "name": "stdout",
     "output_type": "stream",
     "text": [
      "True True\n"
     ]
    }
   ],
   "source": [
    "# Verificar totales\n",
    "\n",
    "# Cerrado t-1\n",
    "resultado_cerrado_t_1 = df_turismo_cerrado['SUMA_TURISMO_T_1'].sum() == control_cerrado_t_1\n",
    "# Cerrado t\n",
    "resultado_cerrado_t = df_turismo_cerrado['SUMA_TURISMO_T'].sum() == control_cerrado_t\n",
    "\n",
    "# Mostrar resultados: todos deben ser verdaderos\n",
    "print(resultado_cerrado_t_1, resultado_cerrado_t)"
   ]
  },
  {
   "cell_type": "code",
   "execution_count": 14,
   "metadata": {},
   "outputs": [
    {
     "data": {
      "text/html": [
       "<div>\n",
       "<style scoped>\n",
       "    .dataframe tbody tr th:only-of-type {\n",
       "        vertical-align: middle;\n",
       "    }\n",
       "\n",
       "    .dataframe tbody tr th {\n",
       "        vertical-align: top;\n",
       "    }\n",
       "\n",
       "    .dataframe thead th {\n",
       "        text-align: right;\n",
       "    }\n",
       "</style>\n",
       "<table border=\"1\" class=\"dataframe\">\n",
       "  <thead>\n",
       "    <tr style=\"text-align: right;\">\n",
       "      <th></th>\n",
       "      <th>COD_TURISMO (DIM_PAIS) #2</th>\n",
       "      <th>Análisis extranjeros:</th>\n",
       "      <th>CODIGO_PAIS_MIGRACION</th>\n",
       "      <th>NOMBRE_PAIS_MIGRACION</th>\n",
       "    </tr>\n",
       "  </thead>\n",
       "  <tbody>\n",
       "  </tbody>\n",
       "</table>\n",
       "</div>"
      ],
      "text/plain": [
       "Empty DataFrame\n",
       "Columns: [COD_TURISMO (DIM_PAIS) #2, Análisis extranjeros:, CODIGO_PAIS_MIGRACION, NOMBRE_PAIS_MIGRACION]\n",
       "Index: []"
      ]
     },
     "execution_count": 14,
     "metadata": {},
     "output_type": "execute_result"
    }
   ],
   "source": [
    "# Verificar países\n",
    "\n",
    "# Unir con la consulta de ST PAISES\n",
    "df_turismo_cerrado_paises = df_turismo_cerrado_paises.merge(df_paises, how='left', left_on='COD_TURISMO (DIM_PAIS) #2', right_on='CODIGO_PAIS_MIGRACION')\n",
    "\n",
    "# No deben salir países de verdad nulos, solo agrupaciones internacionales\n",
    "df_turismo_cerrado_paises[df_turismo_cerrado_paises['NOMBRE_PAIS_MIGRACION'].isna()]"
   ]
  },
  {
   "cell_type": "code",
   "execution_count": 15,
   "metadata": {},
   "outputs": [],
   "source": [
    "# El df obtenido de Tableau tiene ya las agrupaciones por lo que solo se ordenan las columnas y se crea la agrupación\n",
    "\n",
    "# ST PAISES CERRADO\n",
    "ST_PAISES_CERRADO = df_turismo_cerrado\n",
    "\n",
    "# Crear agrupación\n",
    "ST_PAISES_CERRADO['AGRUPACION'] = 'PAISES'\n",
    "\n",
    "# Ordenar\n",
    "ST_PAISES_CERRADO = ST_PAISES_CERRADO[['AGRUPACION', 'CONTINENTE', 'HUB', 'PAIS_RESIDENCIA', 'DPTO_HOSPEDAJE', 'CIUDAD_HOSPEDAJE', 'DESCRIPCION_GENERO', 'MOVC_NOMBRE', 'RANGO_EDAD', 'SUMA_TURISMO_T_1', 'SUMA_TURISMO_T']]"
   ]
  },
  {
   "cell_type": "markdown",
   "metadata": {},
   "source": [
    "## 2. Turismo corrido"
   ]
  },
  {
   "cell_type": "code",
   "execution_count": 16,
   "metadata": {},
   "outputs": [],
   "source": [
    "# Solo se debe cambiar la ubicación del archivo\n",
    "turismo_corrido = 'CONSULTA-CORRIDO_data.csv'"
   ]
  },
  {
   "cell_type": "code",
   "execution_count": 17,
   "metadata": {},
   "outputs": [],
   "source": [
    "# Importar datos corrido de turismo\n",
    "df_turismo_corrido = pd.read_csv(path_turismo + turismo_corrido, sep=\";\", \n",
    "                                 dtype= {'Región país residencia' : str, \n",
    "                                        'HUB__C (País residencia) (grupo)' : str,\n",
    "                                        'COD_TURISMO (DIM_PAIS) #2' : str,\n",
    "                                        'Análisis extranjeros:' : str, \n",
    "                                        'ID_DPTO' : str,\n",
    "                                        'Departamento' : str, \n",
    "                                        'ID_CIUDAD' : str, \n",
    "                                        'Ciudad' : str, \n",
    "                                        'Género' : str, \n",
    "                                        'Motivo viaje Pc' : str,\n",
    "                                        'Rango Turismo' : str, \n",
    "                                        'Nombres de medidas' : str, \n",
    "                                        'Valores de medidas' : float})\n",
    "\n",
    "# Crear df para comparar países en un paso posterior\n",
    "df_turismo_corrido_paises = df_turismo_corrido[['COD_TURISMO (DIM_PAIS) #2', 'Análisis extranjeros:']].drop_duplicates()\n",
    "                                        \n",
    "# Determinar las columnas \"id\" (todas excepto 'Nombres de medidas' y 'Valores de medidas')\n",
    "id_columns = [\n",
    "    col for col in df_turismo_corrido.columns \n",
    "    if col not in ['Nombres de medidas', 'Valores de medidas']\n",
    "]\n",
    "\n",
    "# Pivotar el DataFrame para que 'Nombres de medidas' sea el encabezado y sumar 'Valores de medidas'\n",
    "df_turismo_corrido = pd.DataFrame(\n",
    "    df_turismo_corrido\n",
    "    .groupby(id_columns + ['Nombres de medidas'], as_index=False)['Valores de medidas'].sum()\n",
    "    .pivot(index=id_columns, columns='Nombres de medidas', values='Valores de medidas').reset_index()\n",
    ")\n",
    "\n",
    "# Eliminar columnas que no se usan\n",
    "columnas_extras = ['Análisis extranjeros:', 'Departamento', 'Ciudad']\n",
    "df_turismo_corrido = df_turismo_corrido.drop(columns=columnas_extras)\n",
    "\n",
    "# Cambiar nombres de columnas\n",
    "df_turismo_corrido = df_turismo_corrido.rename(columns={'Región país residencia' : 'CONTINENTE', \n",
    "                                                        'HUB__C (País residencia) (grupo)' : 'HUB', \n",
    "                                                        'COD_TURISMO (DIM_PAIS) #2' : 'PAIS_RESIDENCIA', \n",
    "                                                        'ID_DPTO' : 'DPTO_HOSPEDAJE', \n",
    "                                                        'ID_CIUDAD' : 'CIUDAD_HOSPEDAJE', \n",
    "                                                        'Género' : 'DESCRIPCION_GENERO', \n",
    "                                                        'Motivo viaje Pc' : 'MOVC_NOMBRE',\n",
    "                                                        'Rango Turismo' : 'RANGO_EDAD' ,\n",
    "                                                        'YTD anterior' : 'SUMA_TURISMO_T_1', \n",
    "                                                        'YTD actual' : 'SUMA_TURISMO_T'})\n",
    "\n",
    "# Eliminar datos con ambos casos en cero, en teoría no hay pero sirve para reducir la dimensionalidad\n",
    "df_turismo_corrido = df_turismo_corrido[~((df_turismo_corrido['SUMA_TURISMO_T_1'] == 0) & (df_turismo_corrido['SUMA_TURISMO_T'] == 0))]\n",
    "\n",
    "# Asegurar que los valores en DPTO_HOSPEDAJE son strings y rellenar con ceros a la izquierda si tienen longitud menor a 2\n",
    "df_turismo_corrido['DPTO_HOSPEDAJE'] = df_turismo_corrido['DPTO_HOSPEDAJE'].astype(str).str.zfill(2)\n",
    "\n",
    "# Asegurar que los valores en CIUDAD_HOSPEDAJE son strings y rellenar con ceros a la izquierda si tienen longitud menor a 5\n",
    "df_turismo_corrido['CIUDAD_HOSPEDAJE'] = df_turismo_corrido['CIUDAD_HOSPEDAJE'].astype(str).str.zfill(5)"
   ]
  },
  {
   "cell_type": "code",
   "execution_count": 18,
   "metadata": {},
   "outputs": [
    {
     "name": "stdout",
     "output_type": "stream",
     "text": [
      "True True\n"
     ]
    }
   ],
   "source": [
    "# Verificar totales\n",
    "\n",
    "# Corrido t-1\n",
    "resultado_corrido_t_1 = df_turismo_corrido['SUMA_TURISMO_T_1'].sum() == control_corrido_t_1\n",
    "# Corrido t\n",
    "resultado_corrido_t = df_turismo_corrido['SUMA_TURISMO_T'].sum() == control_corrido_t\n",
    "\n",
    "# Mostrar resultados: todos deben ser verdaderos\n",
    "print(resultado_corrido_t_1, resultado_corrido_t)"
   ]
  },
  {
   "cell_type": "code",
   "execution_count": 19,
   "metadata": {},
   "outputs": [
    {
     "data": {
      "text/html": [
       "<div>\n",
       "<style scoped>\n",
       "    .dataframe tbody tr th:only-of-type {\n",
       "        vertical-align: middle;\n",
       "    }\n",
       "\n",
       "    .dataframe tbody tr th {\n",
       "        vertical-align: top;\n",
       "    }\n",
       "\n",
       "    .dataframe thead th {\n",
       "        text-align: right;\n",
       "    }\n",
       "</style>\n",
       "<table border=\"1\" class=\"dataframe\">\n",
       "  <thead>\n",
       "    <tr style=\"text-align: right;\">\n",
       "      <th></th>\n",
       "      <th>COD_TURISMO (DIM_PAIS) #2</th>\n",
       "      <th>Análisis extranjeros:</th>\n",
       "      <th>CODIGO_PAIS_MIGRACION</th>\n",
       "      <th>NOMBRE_PAIS_MIGRACION</th>\n",
       "    </tr>\n",
       "  </thead>\n",
       "  <tbody>\n",
       "  </tbody>\n",
       "</table>\n",
       "</div>"
      ],
      "text/plain": [
       "Empty DataFrame\n",
       "Columns: [COD_TURISMO (DIM_PAIS) #2, Análisis extranjeros:, CODIGO_PAIS_MIGRACION, NOMBRE_PAIS_MIGRACION]\n",
       "Index: []"
      ]
     },
     "execution_count": 19,
     "metadata": {},
     "output_type": "execute_result"
    }
   ],
   "source": [
    "# Verificar países\n",
    "\n",
    "# Unir con la consulta de ST PAISES\n",
    "df_turismo_corrido_paises = df_turismo_corrido_paises.merge(df_paises, how='left', left_on='COD_TURISMO (DIM_PAIS) #2', right_on='CODIGO_PAIS_MIGRACION')\n",
    "\n",
    "# No deben salir países de verdad nulos, solo agrupaciones internacionales\n",
    "df_turismo_corrido_paises[df_turismo_corrido_paises['NOMBRE_PAIS_MIGRACION'].isna()]"
   ]
  },
  {
   "cell_type": "code",
   "execution_count": 20,
   "metadata": {},
   "outputs": [],
   "source": [
    "# El df obtenido de Tableau tiene ya las agrupaciones por lo que solo se ordenan las columnas y se crea la agrupación\n",
    "\n",
    "# ST PAISES CORRIDO\n",
    "ST_PAISES_CORRIDO = df_turismo_corrido\n",
    "\n",
    "# Crear agrupación\n",
    "ST_PAISES_CORRIDO['AGRUPACION'] = 'PAISES'\n",
    "\n",
    "# Ordenar\n",
    "ST_PAISES_CORRIDO = ST_PAISES_CORRIDO[['AGRUPACION', 'CONTINENTE', 'HUB', 'PAIS_RESIDENCIA', 'DPTO_HOSPEDAJE', 'CIUDAD_HOSPEDAJE', 'DESCRIPCION_GENERO', 'MOVC_NOMBRE', 'RANGO_EDAD', 'SUMA_TURISMO_T_1', 'SUMA_TURISMO_T']]"
   ]
  },
  {
   "cell_type": "markdown",
   "metadata": {},
   "source": [
    "## 3. Conectividad"
   ]
  },
  {
   "cell_type": "code",
   "execution_count": 21,
   "metadata": {},
   "outputs": [],
   "source": [
    "# Solo se debe cambiar la ubicación del archivo\n",
    "path_insumos = 'C:/Users/nrivera/OneDrive - PROCOLOMBIA/Documentos/017B-Documentos-Colombia/Cargue/Insumos/TURISMO/Conectividad/'\n",
    "conectividad_file = 'Conectividad nacional.xlsx'\n",
    "dict_file = 'Diccionario-Departamentos-Conectividad.xlsx'"
   ]
  },
  {
   "cell_type": "code",
   "execution_count": 22,
   "metadata": {},
   "outputs": [],
   "source": [
    "# Importar datos\n",
    "df_conectividad = pd.read_excel(path_insumos + conectividad_file, sheet_name=\"Hoja1\", dtype=str)"
   ]
  },
  {
   "cell_type": "code",
   "execution_count": 23,
   "metadata": {},
   "outputs": [],
   "source": [
    "# Elegir columnas de interés\n",
    "df_conectividad = df_conectividad[['Aerolinea', 'Ciudad_Origen', 'Ciudad_destino', 'Frecuencias', 'Semana de análisis', 'Departamento_origen', 'Departamento_destino']]"
   ]
  },
  {
   "cell_type": "code",
   "execution_count": 24,
   "metadata": {},
   "outputs": [],
   "source": [
    "# Cambiar nombres para snowflake\n",
    "df_conectividad = df_conectividad.rename(columns={\n",
    "    'Aerolinea' : 'AEROLINEA', \n",
    "    'Ciudad_Origen' : 'CIUDAD_ORIGEN', \n",
    "    'Ciudad_destino' : 'CIUDAD_DESTINO', \n",
    "    'Frecuencias' : 'FRECUENCIAS',\n",
    "    'Semana de análisis' : 'SEMANA', \n",
    "    'Departamento_origen' :  'DEPARTAMENTO_ORGIEN', \n",
    "    'Departamento_destino' : 'DEPARTAMENTO_DESTINO'\n",
    "})"
   ]
  },
  {
   "cell_type": "code",
   "execution_count": 25,
   "metadata": {},
   "outputs": [],
   "source": [
    "# Importar datos de nombres\n",
    "df_dict_nombres = pd.read_excel(path_insumos + dict_file, sheet_name=\"Hoja1\", dtype=str)"
   ]
  },
  {
   "cell_type": "code",
   "execution_count": 26,
   "metadata": {},
   "outputs": [],
   "source": [
    "# Agregar códigos de nombres departamentos\n",
    "df_conectividad = pd.merge(df_conectividad, df_dict_nombres, left_on=['DEPARTAMENTO_DESTINO'], right_on=['DEPARTAMENTO'], how='left')\n",
    "# Cambiar nombres \n",
    "df_conectividad = df_conectividad.rename(columns={\n",
    "    'COD_DIVIPOLA' : 'COD_DIVIPOLA_DEPARTAMENTO_DESTINO'\n",
    "})\n",
    "df_conectividad = df_conectividad.drop('DEPARTAMENTO', axis=1)"
   ]
  },
  {
   "cell_type": "code",
   "execution_count": 27,
   "metadata": {},
   "outputs": [],
   "source": [
    "# Agregar códigos de nombres departamentos\n",
    "df_conectividad = pd.merge(df_conectividad, df_dict_nombres, left_on=['DEPARTAMENTO_ORGIEN'], right_on=['DEPARTAMENTO'], how='left')\n",
    "# Cambiar nombres \n",
    "df_conectividad = df_conectividad.rename(columns={\n",
    "    'COD_DIVIPOLA' : 'COD_DIVIPOLA_DEPARTAMENTO_ORGIEN'\n",
    "})\n",
    "df_conectividad = df_conectividad.drop('DEPARTAMENTO', axis=1)"
   ]
  },
  {
   "cell_type": "markdown",
   "metadata": {},
   "source": [
    "## 6. Crear DF de validación"
   ]
  },
  {
   "cell_type": "code",
   "execution_count": 28,
   "metadata": {},
   "outputs": [],
   "source": [
    "# Se crea una tabla con los siguientes campos:\n",
    "    # - Agrupación: 'CONTINENTES', 'PAISES', 'HUBS', 'TLCS', 'DEPARTAMENTOS', 'COLOMBIA'\n",
    "    # - Unidad: se va a usar la misma unidad que en la validación de exportaciones para facilitar el proceso de comparación\n",
    "    # - Tipo periodo: 'TURISMO-CERRADO' O 'TURISMO-CORRIDO'\n",
    "    # - SUMA_TURISMO_T_1 Y SUMA_TURISMO_T"
   ]
  },
  {
   "cell_type": "code",
   "execution_count": 29,
   "metadata": {},
   "outputs": [],
   "source": [
    "##########\n",
    "# COLOMBIA\n",
    "##########\n",
    "\n",
    "# Cerrado\n",
    "df_control_cerrado['TIPO_PERIODO'] = 'TURISMO-CERRADO'\n",
    "\n",
    "# Corrido\n",
    "df_control_corrido['TIPO_PERIODO'] = 'TURISMO-CORRIDO'\n",
    "\n",
    "# DF de control\n",
    "ST_CONTROL_COLOMBIA = pd.DataFrame(pd.concat([df_control_cerrado, df_control_corrido]))\n",
    "\n",
    "# Columnas extras\n",
    "ST_CONTROL_COLOMBIA['UNIDAD'] = 'COLOMBIA'\n",
    "ST_CONTROL_COLOMBIA['AGRUPACION'] = 'COLOMBIA'\n",
    "\n",
    "# Ordenar columnas\n",
    "ST_CONTROL_COLOMBIA = ST_CONTROL_COLOMBIA[['AGRUPACION', 'UNIDAD', 'TIPO_PERIODO', 'T_1_YEAR', 'T_YEAR']]\n",
    "ST_CONTROL_COLOMBIA = ST_CONTROL_COLOMBIA.rename(columns={'T_1_YEAR' : 'SUMA_TURISMO_T_1', 'T_YEAR' : 'SUMA_TURISMO_T'})"
   ]
  },
  {
   "cell_type": "code",
   "execution_count": 30,
   "metadata": {},
   "outputs": [],
   "source": [
    "###############\n",
    "# Departamentos\n",
    "###############\n",
    "\n",
    "# Archivo departamentos\n",
    "departamento_control = 'DEPARTAMENTOS_data.csv'\n",
    "df_control_departamentos = pd.read_csv(path_turismo + departamento_control, sep=\";\", decimal=\",\", dtype={'ID_DPTO':str, 'Departamento':str})\n",
    "\n",
    "\n",
    "# Elegir años de interés\n",
    "\n",
    "# Cerrado\n",
    "df_control_departamentos_cerrado = df_control_departamentos[\n",
    "    (df_control_departamentos['Nombres de medidas'] == '2022   ') | \n",
    "    (df_control_departamentos['Nombres de medidas'] == '2023  ') ]\n",
    "\n",
    "# Pivot\n",
    "df_cerrado = pd.DataFrame(df_control_departamentos_cerrado.pivot_table(\n",
    "    index=['ID_DPTO', 'Departamento'],\n",
    "    columns='Nombres de medidas',\n",
    "    values='Valores de medidas',\n",
    "    aggfunc='sum'\n",
    ")).reset_index()\n",
    "\n",
    "# Eliminar el índice de nombre en las columnas\n",
    "df_cerrado.columns.name = None\n",
    "\n",
    "# Renombrar columnas para el caso Cerrado\n",
    "df_cerrado.rename(\n",
    "    columns={\n",
    "        '2022   ': 'SUMA_TURISMO_T_1',\n",
    "        '2023  ': 'SUMA_TURISMO_T'\n",
    "    },\n",
    "    inplace=True\n",
    ")\n",
    "\n",
    "# Cerrado\n",
    "df_cerrado['TIPO_PERIODO'] = 'TURISMO-CERRADO'\n",
    "\n",
    "\n",
    "# Corrido\n",
    "df_control_departamentos_corrido = df_control_departamentos[\n",
    "    (df_control_departamentos['Nombres de medidas'] == 'YTD anterior') | \n",
    "    (df_control_departamentos['Nombres de medidas'] == 'YTD actual')]\n",
    "\n",
    "# Pivot\n",
    "df_corrido = pd.DataFrame(df_control_departamentos_corrido.pivot_table(\n",
    "    index=['ID_DPTO', 'Departamento'],\n",
    "    columns='Nombres de medidas',\n",
    "    values='Valores de medidas',\n",
    "    aggfunc='sum'\n",
    ")).reset_index()\n",
    "\n",
    "# Eliminar el índice de nombre en las columnas\n",
    "df_corrido.columns.name = None\n",
    "\n",
    "# Renombrar columnas para el caso Corrido\n",
    "df_corrido.rename(\n",
    "    columns={\n",
    "        'YTD anterior': 'SUMA_TURISMO_T_1',\n",
    "        'YTD actual': 'SUMA_TURISMO_T'\n",
    "    },\n",
    "    inplace=True\n",
    ")\n",
    "\n",
    "# Corrido\n",
    "df_corrido['TIPO_PERIODO'] = 'TURISMO-CORRIDO'\n",
    "\n",
    "# Concatenar ambos df de control\n",
    "df_control_departamentos = pd.concat([df_cerrado, df_corrido])\n",
    "\n",
    "# Asegurar que los valores en DPTO_HOSPEDAJE son strings y rellenar con ceros a la izquierda si tienen longitud menor a 2\n",
    "df_control_departamentos['ID_DPTO'] = df_control_departamentos['ID_DPTO'].astype(str).str.zfill(2)\n",
    "\n",
    "# Agregar agrupación\n",
    "df_control_departamentos['AGRUPACION'] = 'DEPARTAMENTOS'"
   ]
  },
  {
   "cell_type": "code",
   "execution_count": 31,
   "metadata": {},
   "outputs": [],
   "source": [
    "# Obtener correlativa de departamentos\n",
    "df_dept = session.table('DOCUMENTOS_COLOMBIA.GEOGRAFIA.DIAN_DEPARTAMENTOS').select(\n",
    "            'COD_DIAN_DEPARTAMENTO',  # Código del departamento según DIAN\n",
    "            'DEPARTAMENTO_DIAN'       # Nombre del departamento según DIAN\n",
    "        ).to_pandas()"
   ]
  },
  {
   "cell_type": "code",
   "execution_count": 32,
   "metadata": {},
   "outputs": [],
   "source": [
    "# Agregar nombre de DEPARTAMENTO_DIAN\n",
    "df_control_departamentos = df_control_departamentos.merge(df_dept, how='left', left_on='ID_DPTO', right_on='COD_DIAN_DEPARTAMENTO')\n",
    "\n",
    "# Cambiar nombres para seguir con la estructura\n",
    "df_control_departamentos = df_control_departamentos.rename(columns={'DEPARTAMENTO_DIAN' : 'UNIDAD'})\n",
    "\n",
    "# Elegir columnas relevantes\n",
    "df_control_departamentos = df_control_departamentos[['AGRUPACION', 'UNIDAD', 'TIPO_PERIODO', 'SUMA_TURISMO_T_1', 'SUMA_TURISMO_T']]\n",
    "\n",
    "# Df de control\n",
    "ST_CONTROL_DEPARTAMENTOS = df_control_departamentos.dropna(subset=['UNIDAD'])\n",
    "ST_CONTROL_DEPARTAMENTOS = ST_CONTROL_DEPARTAMENTOS.groupby(['AGRUPACION', 'UNIDAD', 'TIPO_PERIODO'])[['SUMA_TURISMO_T', 'SUMA_TURISMO_T_1']].sum().reset_index() "
   ]
  },
  {
   "cell_type": "code",
   "execution_count": 33,
   "metadata": {},
   "outputs": [],
   "source": [
    "########\n",
    "# PAISES\n",
    "########\n",
    "\n",
    "# Archivo paises\n",
    "pais_control = 'PAISES_data.csv'\n",
    "df_control_pais = pd.read_csv(path_turismo + pais_control, sep=\";\", decimal=\",\", dtype={'COD_TURISMO (DIM_PAIS) #2':str, 'País residencia':str})\n",
    "\n",
    "# Elegir años de interés\n",
    "\n",
    "# Cerrado\n",
    "df_control_pais_cerrado = df_control_pais[\n",
    "    (df_control_pais['Nombres de medidas'] == '2022   ') | \n",
    "    (df_control_pais['Nombres de medidas'] == '2023  ') ]\n",
    "\n",
    "# Pivot\n",
    "df_cerrado = pd.DataFrame(df_control_pais_cerrado.pivot_table(\n",
    "    index=['COD_TURISMO (DIM_PAIS) #2', 'País residencia'],\n",
    "    columns='Nombres de medidas',\n",
    "    values='Valores de medidas',\n",
    "    aggfunc='sum'\n",
    ")).reset_index()\n",
    "\n",
    "# Eliminar el índice de nombre en las columnas\n",
    "df_cerrado.columns.name = None\n",
    "\n",
    "# Renombrar columnas para el caso Cerrado\n",
    "df_cerrado.rename(\n",
    "    columns={\n",
    "        '2022   ': 'SUMA_TURISMO_T_1',\n",
    "        '2023  ': 'SUMA_TURISMO_T'\n",
    "    },\n",
    "    inplace=True\n",
    ")\n",
    "\n",
    "# Cerrado\n",
    "df_cerrado['TIPO_PERIODO'] = 'TURISMO-CERRADO'\n",
    "\n",
    "\n",
    "# Corrido\n",
    "df_control_pais_corrido = df_control_pais[\n",
    "    (df_control_pais['Nombres de medidas'] == 'YTD anterior') | \n",
    "    (df_control_pais['Nombres de medidas'] == 'YTD actual')]\n",
    "\n",
    "# Pivot\n",
    "df_corrido = pd.DataFrame(df_control_pais_corrido.pivot_table(\n",
    "    index=['COD_TURISMO (DIM_PAIS) #2', 'País residencia'],\n",
    "    columns='Nombres de medidas',\n",
    "    values='Valores de medidas',\n",
    "    aggfunc='sum'\n",
    ")).reset_index()\n",
    "\n",
    "# Eliminar el índice de nombre en las columnas\n",
    "df_corrido.columns.name = None\n",
    "\n",
    "# Renombrar columnas para el caso Corrido\n",
    "df_corrido.rename(\n",
    "    columns={\n",
    "        'YTD anterior': 'SUMA_TURISMO_T_1',\n",
    "        'YTD actual': 'SUMA_TURISMO_T'\n",
    "    },\n",
    "    inplace=True\n",
    ")\n",
    "\n",
    "# Corrido\n",
    "df_corrido['TIPO_PERIODO'] = 'TURISMO-CORRIDO'\n",
    "\n",
    "# Concatenar ambos df de control\n",
    "df_control_pais = pd.concat([df_cerrado, df_corrido])\n",
    "\n",
    "# Agregar agrupación\n",
    "df_control_pais['AGRUPACION'] = 'PAISES'\n",
    "\n",
    "# Guardar insumo de tlcs para paso posterior\n",
    "df_insumo_tcls = df_control_pais"
   ]
  },
  {
   "cell_type": "code",
   "execution_count": 34,
   "metadata": {},
   "outputs": [],
   "source": [
    "# Obtener correlativa de países\n",
    "df_paises = pd.DataFrame(session.sql(\"\"\"\n",
    "SELECT DISTINCT A.CODIGO_PAIS_MIGRACION, \n",
    "    A.PAIS_LLAVE_EXPORTACIONES\n",
    "FROM DOCUMENTOS_COLOMBIA.GEOGRAFIA.ST_PAISES AS A\n",
    "\"\"\").collect())"
   ]
  },
  {
   "cell_type": "code",
   "execution_count": 35,
   "metadata": {},
   "outputs": [],
   "source": [
    "# Agregar nombre de PAIS_LLAVE_EXPORTACIONES\n",
    "df_control_pais = df_control_pais.merge(df_paises, how='left', left_on='COD_TURISMO (DIM_PAIS) #2', right_on='CODIGO_PAIS_MIGRACION')\n",
    "\n",
    "# Cambiar nombres para seguir con la estructura\n",
    "df_control_pais = df_control_pais.rename(columns={'PAIS_LLAVE_EXPORTACIONES' : 'UNIDAD'})\n",
    "\n",
    "# Elegir columnas relevantes\n",
    "df_control_pais = df_control_pais[['AGRUPACION', 'UNIDAD', 'TIPO_PERIODO', 'SUMA_TURISMO_T_1', 'SUMA_TURISMO_T']]\n",
    "\n",
    "# Df de control\n",
    "ST_CONTROL_PAIS = df_control_pais.dropna(subset=['UNIDAD'])\n",
    "ST_CONTROL_PAIS = ST_CONTROL_PAIS.groupby(['AGRUPACION', 'UNIDAD', 'TIPO_PERIODO'])[['SUMA_TURISMO_T', 'SUMA_TURISMO_T_1']].sum().reset_index() "
   ]
  },
  {
   "cell_type": "code",
   "execution_count": 36,
   "metadata": {},
   "outputs": [],
   "source": [
    "#############\n",
    "# CONTINENTES\n",
    "#############\n",
    "\n",
    "# Archivo continentes\n",
    "continentes_control = 'CONTINENTES-TOTALES_data.csv'\n",
    "df_control_continente = pd.read_csv(path_turismo + continentes_control, sep=\";\", decimal=\",\", dtype={'Región país residencia':str})\n",
    "\n",
    "# Elegir años de interés\n",
    "\n",
    "# Cerrado\n",
    "df_control_continente_cerrado = df_control_continente[\n",
    "    (df_control_continente['Nombres de medidas'] == '2022   ') | \n",
    "    (df_control_continente['Nombres de medidas'] == '2023  ') ]\n",
    "\n",
    "# Pivot\n",
    "df_cerrado = pd.DataFrame(df_control_continente_cerrado.pivot_table(\n",
    "    index=['Región país residencia'],\n",
    "    columns='Nombres de medidas',\n",
    "    values='Valores de medidas',\n",
    "    aggfunc='sum'\n",
    ")).reset_index()\n",
    "\n",
    "# Eliminar el índice de nombre en las columnas\n",
    "df_cerrado.columns.name = None\n",
    "\n",
    "# Renombrar columnas para el caso Cerrado\n",
    "df_cerrado.rename(\n",
    "    columns={\n",
    "        '2022   ': 'SUMA_TURISMO_T_1',\n",
    "        '2023  ': 'SUMA_TURISMO_T'\n",
    "    },\n",
    "    inplace=True\n",
    ")\n",
    "\n",
    "# Cerrado\n",
    "df_cerrado['TIPO_PERIODO'] = 'TURISMO-CERRADO'\n",
    "\n",
    "\n",
    "# Corrido\n",
    "df_control_continente_corrido = df_control_continente[\n",
    "    (df_control_continente['Nombres de medidas'] == 'YTD anterior') | \n",
    "    (df_control_continente['Nombres de medidas'] == 'YTD actual')]\n",
    "\n",
    "# Pivot\n",
    "df_corrido = pd.DataFrame(df_control_continente_corrido.pivot_table(\n",
    "    index=['Región país residencia'],\n",
    "    columns='Nombres de medidas',\n",
    "    values='Valores de medidas',\n",
    "    aggfunc='sum'\n",
    ")).reset_index()\n",
    "\n",
    "# Eliminar el índice de nombre en las columnas\n",
    "df_corrido.columns.name = None\n",
    "\n",
    "# Renombrar columnas para el caso Corrido\n",
    "df_corrido.rename(\n",
    "    columns={\n",
    "        'YTD anterior': 'SUMA_TURISMO_T_1',\n",
    "        'YTD actual': 'SUMA_TURISMO_T'\n",
    "    },\n",
    "    inplace=True\n",
    ")\n",
    "\n",
    "# Corrido\n",
    "df_corrido['TIPO_PERIODO'] = 'TURISMO-CORRIDO'\n",
    "\n",
    "# Concatenar ambos df de control\n",
    "df_control_continente = pd.concat([df_cerrado, df_corrido])\n",
    "\n",
    "# Agregar agrupación\n",
    "df_control_continente['AGRUPACION'] = 'CONTINENTES'"
   ]
  },
  {
   "cell_type": "code",
   "execution_count": 37,
   "metadata": {},
   "outputs": [],
   "source": [
    "# Obtener correlativa de continentes\n",
    "df_continentes = pd.DataFrame(session.sql(\"\"\"\n",
    "SELECT DISTINCT A.REGION_NAME_TURISMO, \n",
    "    B.REGION_NAME_EXPORTACIONES\n",
    "FROM DOCUMENTOS_COLOMBIA.GEOGRAFIA.PAISES_TURISMO AS A\n",
    "LEFT JOIN DOCUMENTOS_COLOMBIA.GEOGRAFIA.CONTINENTES AS B ON A.REGION_NAME_TURISMO_AGREGADA = B.REGION_NAME_TURISMO_AGREGADA;\n",
    "\"\"\").collect())"
   ]
  },
  {
   "cell_type": "code",
   "execution_count": 38,
   "metadata": {},
   "outputs": [],
   "source": [
    "# Agregar nombre de REGION_NAME_EXPORTACIONES\n",
    "df_control_continente = df_control_continente.merge(df_continentes, how='left', left_on='Región país residencia', right_on='REGION_NAME_TURISMO')\n",
    "\n",
    "# Cambiar nombres para seguir con la estructura\n",
    "df_control_continente = df_control_continente.rename(columns={'REGION_NAME_EXPORTACIONES' : 'UNIDAD'})\n",
    "\n",
    "# Elegir columnas relevantes\n",
    "df_control_continente = df_control_continente[['AGRUPACION', 'UNIDAD', 'TIPO_PERIODO', 'SUMA_TURISMO_T_1', 'SUMA_TURISMO_T']]\n",
    "\n",
    "# Df de control\n",
    "ST_CONTROL_CONTINENTES = df_control_continente.dropna(subset=['UNIDAD'])\n",
    "ST_CONTROL_CONTINENTES = ST_CONTROL_CONTINENTES.groupby(['AGRUPACION', 'UNIDAD', 'TIPO_PERIODO'])[['SUMA_TURISMO_T', 'SUMA_TURISMO_T_1']].sum().reset_index() "
   ]
  },
  {
   "cell_type": "code",
   "execution_count": 40,
   "metadata": {},
   "outputs": [],
   "source": [
    "# Modificar los datos para asignar Egipto al total de África y eliminarlo de Asia. \n",
    "\n",
    "# Filtrar los datos de Egipto\n",
    "df_egipto = ST_CONTROL_PAIS[ST_CONTROL_PAIS['UNIDAD'] == 'Egipto']\n",
    "\n",
    "# Iterar por cada TIPO_PERIODO único\n",
    "for tipo_periodo in df_egipto['TIPO_PERIODO'].unique():\n",
    "    # Valores de Egipto para el periodo actual\n",
    "    suma_t_egipto = df_egipto[df_egipto['TIPO_PERIODO'] == tipo_periodo]['SUMA_TURISMO_T'].values[0]\n",
    "    suma_t_1_egipto = df_egipto[df_egipto['TIPO_PERIODO'] == tipo_periodo]['SUMA_TURISMO_T_1'].values[0]\n",
    "\n",
    "    # Modificación para Asia (restar valores)\n",
    "    ST_CONTROL_CONTINENTES.loc[\n",
    "        (ST_CONTROL_CONTINENTES['UNIDAD'] == 'Asia') & (ST_CONTROL_CONTINENTES['TIPO_PERIODO'] == tipo_periodo),\n",
    "        ['SUMA_TURISMO_T', 'SUMA_TURISMO_T_1']\n",
    "    ] -= [suma_t_egipto, suma_t_1_egipto]\n",
    "\n",
    "    # Modificación para África (sumar valores)\n",
    "    ST_CONTROL_CONTINENTES.loc[\n",
    "        (ST_CONTROL_CONTINENTES['UNIDAD'] == 'África') & (ST_CONTROL_CONTINENTES['TIPO_PERIODO'] == tipo_periodo),\n",
    "        ['SUMA_TURISMO_T', 'SUMA_TURISMO_T_1']\n",
    "    ] += [suma_t_egipto, suma_t_1_egipto]"
   ]
  },
  {
   "cell_type": "code",
   "execution_count": 41,
   "metadata": {},
   "outputs": [],
   "source": [
    "######\n",
    "# HUBS\n",
    "######\n",
    "\n",
    "# Archivo continentes\n",
    "hubs_control = 'HUB-TOTALES_data.csv'\n",
    "df_control_hubs = pd.read_csv(path_turismo + hubs_control, sep=\";\", decimal=\",\", dtype={'HUB__C (País residencia) (grupo)' : str})\n",
    "\n",
    "# Elegir años de interés\n",
    "\n",
    "# Cerrado\n",
    "df_control_hubs_cerrado = df_control_hubs[\n",
    "    (df_control_hubs['Nombres de medidas'] == '2022   ') | \n",
    "    (df_control_hubs['Nombres de medidas'] == '2023  ') ]\n",
    "\n",
    "# Pivot\n",
    "df_cerrado = pd.DataFrame(df_control_hubs_cerrado.pivot_table(\n",
    "    index=['HUB__C (País residencia) (grupo)'],\n",
    "    columns='Nombres de medidas',\n",
    "    values='Valores de medidas',\n",
    "    aggfunc='sum'\n",
    ")).reset_index()\n",
    "\n",
    "# Eliminar el índice de nombre en las columnas\n",
    "df_cerrado.columns.name = None\n",
    "\n",
    "# Renombrar columnas para el caso Cerrado\n",
    "df_cerrado.rename(\n",
    "    columns={\n",
    "        '2022   ': 'SUMA_TURISMO_T_1',\n",
    "        '2023  ': 'SUMA_TURISMO_T'\n",
    "    },\n",
    "    inplace=True\n",
    ")\n",
    "\n",
    "# Cerrado\n",
    "df_cerrado['TIPO_PERIODO'] = 'TURISMO-CERRADO'\n",
    "\n",
    "\n",
    "# Corrido\n",
    "df_control_hubs_corrido = df_control_hubs[\n",
    "    (df_control_hubs['Nombres de medidas'] == 'YTD anterior') | \n",
    "    (df_control_hubs['Nombres de medidas'] == 'YTD actual')]\n",
    "\n",
    "# Pivot\n",
    "df_corrido = pd.DataFrame(df_control_hubs_corrido.pivot_table(\n",
    "    index=['HUB__C (País residencia) (grupo)'],\n",
    "    columns='Nombres de medidas',\n",
    "    values='Valores de medidas',\n",
    "    aggfunc='sum'\n",
    ")).reset_index()\n",
    "\n",
    "# Eliminar el índice de nombre en las columnas\n",
    "df_corrido.columns.name = None\n",
    "\n",
    "# Renombrar columnas para el caso Corrido\n",
    "df_corrido.rename(\n",
    "    columns={\n",
    "        'YTD anterior': 'SUMA_TURISMO_T_1',\n",
    "        'YTD actual': 'SUMA_TURISMO_T'\n",
    "    },\n",
    "    inplace=True\n",
    ")\n",
    "\n",
    "# Corrido\n",
    "df_corrido['TIPO_PERIODO'] = 'TURISMO-CORRIDO'\n",
    "\n",
    "# Concatenar ambos df de control\n",
    "df_control_hubs = pd.concat([df_cerrado, df_corrido])\n",
    "\n",
    "# Agregar agrupación\n",
    "df_control_hubs['AGRUPACION'] = 'HUBS'"
   ]
  },
  {
   "cell_type": "code",
   "execution_count": 42,
   "metadata": {},
   "outputs": [],
   "source": [
    "# Obtener correlativa de hubs\n",
    "df_hubs = pd.DataFrame(session.sql(\"\"\"\n",
    "SELECT DISTINCT A.HUB_NAME_EXPORTACIONES, \n",
    "    A.HUB_NAME_TURISMO\n",
    "FROM DOCUMENTOS_COLOMBIA.GEOGRAFIA.HUBS AS A;\n",
    "\"\"\").collect())"
   ]
  },
  {
   "cell_type": "code",
   "execution_count": 43,
   "metadata": {},
   "outputs": [],
   "source": [
    "# Agregar nombre de HUB_NAME_EXPORTACIONES\n",
    "df_control_hubs = df_control_hubs.merge(df_hubs, how='left', left_on='HUB__C (País residencia) (grupo)', right_on='HUB_NAME_TURISMO')\n",
    "\n",
    "# Cambiar nombres para seguir con la estructura\n",
    "df_control_hubs = df_control_hubs.rename(columns={'HUB_NAME_EXPORTACIONES' : 'UNIDAD'})\n",
    "\n",
    "# Elegir columnas relevantes\n",
    "df_control_hubs = df_control_hubs[['AGRUPACION', 'UNIDAD', 'TIPO_PERIODO', 'SUMA_TURISMO_T_1', 'SUMA_TURISMO_T']]\n",
    "\n",
    "# Df de control\n",
    "ST_CONTROL_HUBS = df_control_hubs.dropna(subset=['UNIDAD'])\n",
    "ST_CONTROL_HUBS = ST_CONTROL_HUBS.groupby(['AGRUPACION', 'UNIDAD', 'TIPO_PERIODO'])[['SUMA_TURISMO_T', 'SUMA_TURISMO_T_1']].sum().reset_index() "
   ]
  },
  {
   "cell_type": "code",
   "execution_count": 44,
   "metadata": {},
   "outputs": [],
   "source": [
    "######\n",
    "# TLCS\n",
    "######\n",
    "\n",
    "# Correlativa de TLCs\n",
    "df_tlcs = pd.DataFrame(session.sql(\"\"\"\n",
    "SELECT DISTINCT A.CODIGO_PAIS_MIGRACION,       \n",
    "    A.NOMBRE_TLC\n",
    "FROM DOCUMENTOS_COLOMBIA.GEOGRAFIA.ST_PAISES AS A;\n",
    "\"\"\").collect())\n",
    "\n",
    "# Agregar nombre de NOMBRE_TLC\n",
    "df_insumo_tcls = df_insumo_tcls.merge(df_tlcs, how='left', left_on='COD_TURISMO (DIM_PAIS) #2', right_on='CODIGO_PAIS_MIGRACION')\n",
    "\n",
    "# Cambiar nombres para seguir con la estructura\n",
    "df_insumo_tcls = df_insumo_tcls.rename(columns={'NOMBRE_TLC' : 'UNIDAD'})\n",
    "\n",
    "# Elegir columnas relevantes\n",
    "df_insumo_tcls = df_insumo_tcls[['AGRUPACION', 'UNIDAD', 'TIPO_PERIODO', 'SUMA_TURISMO_T_1', 'SUMA_TURISMO_T']]\n",
    "\n",
    "# Agrupación\n",
    "df_insumo_tcls['AGRUPACION'] = 'TLCS'\n",
    "\n",
    "# Df de control\n",
    "ST_CONTROL_TLCS = df_insumo_tcls.dropna(subset=['UNIDAD'])\n",
    "ST_CONTROL_TLCS = ST_CONTROL_TLCS.groupby(['AGRUPACION', 'UNIDAD', 'TIPO_PERIODO'])[['SUMA_TURISMO_T_1', 'SUMA_TURISMO_T']].sum().reset_index() "
   ]
  },
  {
   "cell_type": "code",
   "execution_count": 45,
   "metadata": {},
   "outputs": [],
   "source": [
    "# Base de control total\n",
    "DF_TURISMO_CONTROL = pd.concat([ST_CONTROL_COLOMBIA, ST_CONTROL_DEPARTAMENTOS, ST_CONTROL_PAIS, ST_CONTROL_CONTINENTES, ST_CONTROL_HUBS, ST_CONTROL_TLCS])"
   ]
  },
  {
   "cell_type": "code",
   "execution_count": 46,
   "metadata": {},
   "outputs": [
    {
     "data": {
      "text/html": [
       "<div>\n",
       "<style scoped>\n",
       "    .dataframe tbody tr th:only-of-type {\n",
       "        vertical-align: middle;\n",
       "    }\n",
       "\n",
       "    .dataframe tbody tr th {\n",
       "        vertical-align: top;\n",
       "    }\n",
       "\n",
       "    .dataframe thead th {\n",
       "        text-align: right;\n",
       "    }\n",
       "</style>\n",
       "<table border=\"1\" class=\"dataframe\">\n",
       "  <thead>\n",
       "    <tr style=\"text-align: right;\">\n",
       "      <th></th>\n",
       "      <th>AGRUPACION</th>\n",
       "      <th>UNIDAD</th>\n",
       "      <th>TIPO_PERIODO</th>\n",
       "      <th>SUMA_TURISMO_T_1</th>\n",
       "      <th>SUMA_TURISMO_T</th>\n",
       "    </tr>\n",
       "  </thead>\n",
       "  <tbody>\n",
       "    <tr>\n",
       "      <th>0</th>\n",
       "      <td>CONTINENTES</td>\n",
       "      <td>América</td>\n",
       "      <td>TURISMO-CERRADO</td>\n",
       "      <td>2,698,372.0000000000</td>\n",
       "      <td>3,351,855.0000000000</td>\n",
       "    </tr>\n",
       "    <tr>\n",
       "      <th>1</th>\n",
       "      <td>CONTINENTES</td>\n",
       "      <td>América</td>\n",
       "      <td>TURISMO-CORRIDO</td>\n",
       "      <td>2,737,199.0000000000</td>\n",
       "      <td>3,049,085.0000000000</td>\n",
       "    </tr>\n",
       "    <tr>\n",
       "      <th>2</th>\n",
       "      <td>CONTINENTES</td>\n",
       "      <td>Asia</td>\n",
       "      <td>TURISMO-CERRADO</td>\n",
       "      <td>40,095.0000000000</td>\n",
       "      <td>67,547.0000000000</td>\n",
       "    </tr>\n",
       "    <tr>\n",
       "      <th>3</th>\n",
       "      <td>CONTINENTES</td>\n",
       "      <td>Asia</td>\n",
       "      <td>TURISMO-CORRIDO</td>\n",
       "      <td>55,418.0000000000</td>\n",
       "      <td>65,655.0000000000</td>\n",
       "    </tr>\n",
       "    <tr>\n",
       "      <th>4</th>\n",
       "      <td>CONTINENTES</td>\n",
       "      <td>Europa</td>\n",
       "      <td>TURISMO-CERRADO</td>\n",
       "      <td>521,721.0000000000</td>\n",
       "      <td>630,399.0000000000</td>\n",
       "    </tr>\n",
       "    <tr>\n",
       "      <th>5</th>\n",
       "      <td>CONTINENTES</td>\n",
       "      <td>Europa</td>\n",
       "      <td>TURISMO-CORRIDO</td>\n",
       "      <td>510,580.0000000000</td>\n",
       "      <td>525,323.0000000000</td>\n",
       "    </tr>\n",
       "    <tr>\n",
       "      <th>6</th>\n",
       "      <td>CONTINENTES</td>\n",
       "      <td>Oceanía</td>\n",
       "      <td>TURISMO-CERRADO</td>\n",
       "      <td>13,354.0000000000</td>\n",
       "      <td>18,708.0000000000</td>\n",
       "    </tr>\n",
       "    <tr>\n",
       "      <th>7</th>\n",
       "      <td>CONTINENTES</td>\n",
       "      <td>Oceanía</td>\n",
       "      <td>TURISMO-CORRIDO</td>\n",
       "      <td>14,218.0000000000</td>\n",
       "      <td>15,286.0000000000</td>\n",
       "    </tr>\n",
       "    <tr>\n",
       "      <th>8</th>\n",
       "      <td>CONTINENTES</td>\n",
       "      <td>África</td>\n",
       "      <td>TURISMO-CERRADO</td>\n",
       "      <td>5,158.0000000000</td>\n",
       "      <td>6,121.0000000000</td>\n",
       "    </tr>\n",
       "    <tr>\n",
       "      <th>9</th>\n",
       "      <td>CONTINENTES</td>\n",
       "      <td>África</td>\n",
       "      <td>TURISMO-CORRIDO</td>\n",
       "      <td>4,876.0000000000</td>\n",
       "      <td>6,176.0000000000</td>\n",
       "    </tr>\n",
       "  </tbody>\n",
       "</table>\n",
       "</div>"
      ],
      "text/plain": [
       "    AGRUPACION   UNIDAD     TIPO_PERIODO     SUMA_TURISMO_T_1  \\\n",
       "0  CONTINENTES  América  TURISMO-CERRADO 2,698,372.0000000000   \n",
       "1  CONTINENTES  América  TURISMO-CORRIDO 2,737,199.0000000000   \n",
       "2  CONTINENTES  Asia     TURISMO-CERRADO 40,095.0000000000      \n",
       "3  CONTINENTES  Asia     TURISMO-CORRIDO 55,418.0000000000      \n",
       "4  CONTINENTES  Europa   TURISMO-CERRADO 521,721.0000000000     \n",
       "5  CONTINENTES  Europa   TURISMO-CORRIDO 510,580.0000000000     \n",
       "6  CONTINENTES  Oceanía  TURISMO-CERRADO 13,354.0000000000      \n",
       "7  CONTINENTES  Oceanía  TURISMO-CORRIDO 14,218.0000000000      \n",
       "8  CONTINENTES  África   TURISMO-CERRADO 5,158.0000000000       \n",
       "9  CONTINENTES  África   TURISMO-CORRIDO 4,876.0000000000       \n",
       "\n",
       "        SUMA_TURISMO_T  \n",
       "0 3,351,855.0000000000  \n",
       "1 3,049,085.0000000000  \n",
       "2 67,547.0000000000     \n",
       "3 65,655.0000000000     \n",
       "4 630,399.0000000000    \n",
       "5 525,323.0000000000    \n",
       "6 18,708.0000000000     \n",
       "7 15,286.0000000000     \n",
       "8 6,121.0000000000      \n",
       "9 6,176.0000000000      "
      ]
     },
     "execution_count": 46,
     "metadata": {},
     "output_type": "execute_result"
    }
   ],
   "source": [
    "# Realizar cambio de continente agregado a Egipto\n",
    "DF_TURISMO_CONTROL[DF_TURISMO_CONTROL['AGRUPACION']=='CONTINENTES']"
   ]
  },
  {
   "cell_type": "markdown",
   "metadata": {},
   "source": [
    "## 5. Subir a Snowflake"
   ]
  },
  {
   "cell_type": "markdown",
   "metadata": {},
   "source": [
    "##### Seleccionar base de datos y esquema"
   ]
  },
  {
   "cell_type": "code",
   "execution_count": 47,
   "metadata": {},
   "outputs": [
    {
     "data": {
      "text/html": [
       "<div>\n",
       "<style scoped>\n",
       "    .dataframe tbody tr th:only-of-type {\n",
       "        vertical-align: middle;\n",
       "    }\n",
       "\n",
       "    .dataframe tbody tr th {\n",
       "        vertical-align: top;\n",
       "    }\n",
       "\n",
       "    .dataframe thead th {\n",
       "        text-align: right;\n",
       "    }\n",
       "</style>\n",
       "<table border=\"1\" class=\"dataframe\">\n",
       "  <thead>\n",
       "    <tr style=\"text-align: right;\">\n",
       "      <th></th>\n",
       "      <th>status</th>\n",
       "    </tr>\n",
       "  </thead>\n",
       "  <tbody>\n",
       "    <tr>\n",
       "      <th>0</th>\n",
       "      <td>Statement executed successfully.</td>\n",
       "    </tr>\n",
       "  </tbody>\n",
       "</table>\n",
       "</div>"
      ],
      "text/plain": [
       "                             status\n",
       "0  Statement executed successfully."
      ]
     },
     "execution_count": 47,
     "metadata": {},
     "output_type": "execute_result"
    }
   ],
   "source": [
    "# Usar base de datos:\n",
    "sql_database_usar = \"\"\"\n",
    "USE DOCUMENTOS_COLOMBIA;\n",
    "\"\"\"\n",
    "# Ejecutar\n",
    "snow_func.snowflake_sql(conn, sql_database_usar)"
   ]
  },
  {
   "cell_type": "code",
   "execution_count": 48,
   "metadata": {},
   "outputs": [
    {
     "data": {
      "text/html": [
       "<div>\n",
       "<style scoped>\n",
       "    .dataframe tbody tr th:only-of-type {\n",
       "        vertical-align: middle;\n",
       "    }\n",
       "\n",
       "    .dataframe tbody tr th {\n",
       "        vertical-align: top;\n",
       "    }\n",
       "\n",
       "    .dataframe thead th {\n",
       "        text-align: right;\n",
       "    }\n",
       "</style>\n",
       "<table border=\"1\" class=\"dataframe\">\n",
       "  <thead>\n",
       "    <tr style=\"text-align: right;\">\n",
       "      <th></th>\n",
       "      <th>status</th>\n",
       "    </tr>\n",
       "  </thead>\n",
       "  <tbody>\n",
       "    <tr>\n",
       "      <th>0</th>\n",
       "      <td>Statement executed successfully.</td>\n",
       "    </tr>\n",
       "  </tbody>\n",
       "</table>\n",
       "</div>"
      ],
      "text/plain": [
       "                             status\n",
       "0  Statement executed successfully."
      ]
     },
     "execution_count": 48,
     "metadata": {},
     "output_type": "execute_result"
    }
   ],
   "source": [
    "# Usar esquema turismo:\n",
    "sql_schema_turismo = \"\"\"\n",
    "USE SCHEMA TURISMO;\n",
    "\"\"\"\n",
    "# Ejecutar\n",
    "snow_func.snowflake_sql(conn, sql_schema_turismo)"
   ]
  },
  {
   "cell_type": "code",
   "execution_count": 49,
   "metadata": {},
   "outputs": [
    {
     "data": {
      "text/html": [
       "<div>\n",
       "<style scoped>\n",
       "    .dataframe tbody tr th:only-of-type {\n",
       "        vertical-align: middle;\n",
       "    }\n",
       "\n",
       "    .dataframe tbody tr th {\n",
       "        vertical-align: top;\n",
       "    }\n",
       "\n",
       "    .dataframe thead th {\n",
       "        text-align: right;\n",
       "    }\n",
       "</style>\n",
       "<table border=\"1\" class=\"dataframe\">\n",
       "  <thead>\n",
       "    <tr style=\"text-align: right;\">\n",
       "      <th></th>\n",
       "      <th>WAREHOUSE</th>\n",
       "      <th>DATABASE</th>\n",
       "      <th>SCHEMA</th>\n",
       "    </tr>\n",
       "  </thead>\n",
       "  <tbody>\n",
       "    <tr>\n",
       "      <th>0</th>\n",
       "      <td>WH_PROCOLOMBIA_ANALITICA</td>\n",
       "      <td>DOCUMENTOS_COLOMBIA</td>\n",
       "      <td>TURISMO</td>\n",
       "    </tr>\n",
       "  </tbody>\n",
       "</table>\n",
       "</div>"
      ],
      "text/plain": [
       "                  WAREHOUSE             DATABASE   SCHEMA\n",
       "0  WH_PROCOLOMBIA_ANALITICA  DOCUMENTOS_COLOMBIA  TURISMO"
      ]
     },
     "execution_count": 49,
     "metadata": {},
     "output_type": "execute_result"
    }
   ],
   "source": [
    "# Asegurar que estamos en la ubicación que se desea para subir las bases de datos\n",
    "ubicacion = \"SELECT CURRENT_WAREHOUSE() AS WAREHOUSE, CURRENT_DATABASE() AS DATABASE, CURRENT_SCHEMA() AS SCHEMA;\"\n",
    "# Ejecutar\n",
    "snow_func.snowflake_sql(conn, ubicacion)"
   ]
  },
  {
   "cell_type": "code",
   "execution_count": 50,
   "metadata": {},
   "outputs": [],
   "source": [
    "# Lista de pd a subir\n",
    "bases_de_datos = [\n",
    "    ST_PAISES_CERRADO,\n",
    "    ST_PAISES_CORRIDO,\n",
    "    df_conectividad,\n",
    "    DF_TURISMO_CONTROL\n",
    "]\n",
    "\n",
    "nombres_tablas = [\n",
    "    'ST_PAISES_CERRADO',\n",
    "    'ST_PAISES_CORRIDO',\n",
    "    'CONECTIVIDAD',\n",
    "    'DF_TURISMO_CONTROL'\n",
    "]"
   ]
  },
  {
   "cell_type": "code",
   "execution_count": 51,
   "metadata": {},
   "outputs": [],
   "source": [
    "# pd de verificación\n",
    "df_resultados_verificacion = pd.DataFrame()\n",
    "# Subir y verificar bases a Snowflake\n",
    "for base, tabla in zip(bases_de_datos, nombres_tablas):\n",
    "    # Cargar el DataFrame en Snowflake y capturar el mensaje de carga\n",
    "    mensaje_carga = snow_func.snowflake_cargar_df(conn, base, f'{tabla}')\n",
    "    \n",
    "    # Verificar y almacenar el resultado en el DataFrame\n",
    "    resultado = snow_func.snowflake_sql(conn, f\"SELECT COUNT(*) FROM {tabla};\")\n",
    "    total_registros = resultado  # Extraer el total de registros\n",
    "\n",
    "    # Crear un DataFrame temporal para la nueva fila\n",
    "    nueva_fila = pd.DataFrame({\n",
    "        'Tabla': [tabla],\n",
    "        'Total_Registros': [total_registros],\n",
    "        'Mensaje_Carga': [mensaje_carga]\n",
    "    })\n",
    "\n",
    "    # Concatenar la nueva fila al DataFrame de resultados\n",
    "    df_resultados_verificacion = pd.concat([df_resultados_verificacion, nueva_fila], ignore_index=True)"
   ]
  },
  {
   "cell_type": "code",
   "execution_count": 52,
   "metadata": {},
   "outputs": [
    {
     "data": {
      "text/html": [
       "<div>\n",
       "<style scoped>\n",
       "    .dataframe tbody tr th:only-of-type {\n",
       "        vertical-align: middle;\n",
       "    }\n",
       "\n",
       "    .dataframe tbody tr th {\n",
       "        vertical-align: top;\n",
       "    }\n",
       "\n",
       "    .dataframe thead th {\n",
       "        text-align: right;\n",
       "    }\n",
       "</style>\n",
       "<table border=\"1\" class=\"dataframe\">\n",
       "  <thead>\n",
       "    <tr style=\"text-align: right;\">\n",
       "      <th></th>\n",
       "      <th>Tabla</th>\n",
       "      <th>Total_Registros</th>\n",
       "      <th>Mensaje_Carga</th>\n",
       "    </tr>\n",
       "  </thead>\n",
       "  <tbody>\n",
       "    <tr>\n",
       "      <th>0</th>\n",
       "      <td>ST_PAISES_CERRADO</td>\n",
       "      <td>COUNT(*)\n",
       "0  147262</td>\n",
       "      <td>DataFrame cargado exitosamente en la tabla: 147262 filas en 1 chunks.\\nTiempo de carga: 4.95 segundos.\\nProceso terminado</td>\n",
       "    </tr>\n",
       "    <tr>\n",
       "      <th>1</th>\n",
       "      <td>ST_PAISES_CORRIDO</td>\n",
       "      <td>COUNT(*)\n",
       "0  137132</td>\n",
       "      <td>DataFrame cargado exitosamente en la tabla: 137132 filas en 1 chunks.\\nTiempo de carga: 3.91 segundos.\\nProceso terminado</td>\n",
       "    </tr>\n",
       "    <tr>\n",
       "      <th>2</th>\n",
       "      <td>CONECTIVIDAD</td>\n",
       "      <td>COUNT(*)\n",
       "0  404</td>\n",
       "      <td>DataFrame cargado exitosamente en la tabla: 404 filas en 1 chunks.\\nTiempo de carga: 2.59 segundos.\\nProceso terminado</td>\n",
       "    </tr>\n",
       "    <tr>\n",
       "      <th>3</th>\n",
       "      <td>DF_TURISMO_CONTROL</td>\n",
       "      <td>COUNT(*)\n",
       "0  574</td>\n",
       "      <td>DataFrame cargado exitosamente en la tabla: 574 filas en 1 chunks.\\nTiempo de carga: 1.70 segundos.\\nProceso terminado</td>\n",
       "    </tr>\n",
       "  </tbody>\n",
       "</table>\n",
       "</div>"
      ],
      "text/plain": [
       "                Tabla          Total_Registros  \\\n",
       "0  ST_PAISES_CERRADO      COUNT(*)\n",
       "0  147262     \n",
       "1  ST_PAISES_CORRIDO      COUNT(*)\n",
       "0  137132     \n",
       "2  CONECTIVIDAD           COUNT(*)\n",
       "0  404        \n",
       "3  DF_TURISMO_CONTROL     COUNT(*)\n",
       "0  574        \n",
       "\n",
       "                                                                                                               Mensaje_Carga  \n",
       "0  DataFrame cargado exitosamente en la tabla: 147262 filas en 1 chunks.\\nTiempo de carga: 4.95 segundos.\\nProceso terminado  \n",
       "1  DataFrame cargado exitosamente en la tabla: 137132 filas en 1 chunks.\\nTiempo de carga: 3.91 segundos.\\nProceso terminado  \n",
       "2  DataFrame cargado exitosamente en la tabla: 404 filas en 1 chunks.\\nTiempo de carga: 2.59 segundos.\\nProceso terminado     \n",
       "3  DataFrame cargado exitosamente en la tabla: 574 filas en 1 chunks.\\nTiempo de carga: 1.70 segundos.\\nProceso terminado     "
      ]
     },
     "execution_count": 52,
     "metadata": {},
     "output_type": "execute_result"
    }
   ],
   "source": [
    "# Ver resultados\n",
    "df_resultados_verificacion"
   ]
  },
  {
   "cell_type": "markdown",
   "metadata": {},
   "source": [
    "### Cerrar sesión, conexión y cursor"
   ]
  },
  {
   "cell_type": "code",
   "execution_count": 53,
   "metadata": {},
   "outputs": [],
   "source": [
    "conn.close()\n",
    "session.close()"
   ]
  }
 ],
 "metadata": {
  "kernelspec": {
   "display_name": ".venv",
   "language": "python",
   "name": "python3"
  },
  "language_info": {
   "codemirror_mode": {
    "name": "ipython",
    "version": 3
   },
   "file_extension": ".py",
   "mimetype": "text/x-python",
   "name": "python",
   "nbconvert_exporter": "python",
   "pygments_lexer": "ipython3",
   "version": "3.11.0"
  }
 },
 "nbformat": 4,
 "nbformat_minor": 2
}
